{
 "cells": [
  {
   "cell_type": "code",
   "execution_count": 1,
   "id": "ef282aaf",
   "metadata": {},
   "outputs": [],
   "source": [
    "import numpy as np \n",
    "import pandas as pd \n",
    "\n",
    "import matplotlib.pyplot as plt\n",
    "import seaborn as sns\n",
    "from sklearn.model_selection import train_test_split\n",
    "from sklearn.preprocessing import scale\n",
    "from sklearn.ensemble import RandomForestRegressor\n",
    "from sklearn.linear_model import LinearRegression\n",
    "from sklearn.metrics import mean_squared_error,mean_absolute_error\n",
    "import datetime\n",
    "from sklearn.tree import DecisionTreeRegressor\n"
   ]
  },
  {
   "cell_type": "markdown",
   "id": "35aeb02e",
   "metadata": {},
   "source": [
    "## EDA"
   ]
  },
  {
   "cell_type": "code",
   "execution_count": 2,
   "id": "393f8676",
   "metadata": {},
   "outputs": [],
   "source": [
    "df = pd.read_csv(\"city_day_new.csv\")"
   ]
  },
  {
   "cell_type": "code",
   "execution_count": 3,
   "id": "d617b3f1",
   "metadata": {},
   "outputs": [
    {
     "data": {
      "text/html": [
       "<div>\n",
       "<style scoped>\n",
       "    .dataframe tbody tr th:only-of-type {\n",
       "        vertical-align: middle;\n",
       "    }\n",
       "\n",
       "    .dataframe tbody tr th {\n",
       "        vertical-align: top;\n",
       "    }\n",
       "\n",
       "    .dataframe thead th {\n",
       "        text-align: right;\n",
       "    }\n",
       "</style>\n",
       "<table border=\"1\" class=\"dataframe\">\n",
       "  <thead>\n",
       "    <tr style=\"text-align: right;\">\n",
       "      <th></th>\n",
       "      <th>City</th>\n",
       "      <th>Date</th>\n",
       "      <th>PM2.5</th>\n",
       "      <th>PM10</th>\n",
       "      <th>NO</th>\n",
       "      <th>NO2</th>\n",
       "      <th>NOx</th>\n",
       "      <th>NH3</th>\n",
       "      <th>CO</th>\n",
       "      <th>SO2</th>\n",
       "      <th>O3</th>\n",
       "      <th>Benzene</th>\n",
       "      <th>Toluene</th>\n",
       "      <th>Xylene</th>\n",
       "      <th>AQI</th>\n",
       "      <th>AQI_Bucket</th>\n",
       "    </tr>\n",
       "  </thead>\n",
       "  <tbody>\n",
       "    <tr>\n",
       "      <th>0</th>\n",
       "      <td>Ahmedabad</td>\n",
       "      <td>2015-01-01</td>\n",
       "      <td>NaN</td>\n",
       "      <td>NaN</td>\n",
       "      <td>0.92</td>\n",
       "      <td>18.22</td>\n",
       "      <td>17.15</td>\n",
       "      <td>NaN</td>\n",
       "      <td>0.92</td>\n",
       "      <td>27.64</td>\n",
       "      <td>133.36</td>\n",
       "      <td>0.00</td>\n",
       "      <td>0.02</td>\n",
       "      <td>0.00</td>\n",
       "      <td>NaN</td>\n",
       "      <td>NaN</td>\n",
       "    </tr>\n",
       "    <tr>\n",
       "      <th>1</th>\n",
       "      <td>Ahmedabad</td>\n",
       "      <td>2015-01-02</td>\n",
       "      <td>NaN</td>\n",
       "      <td>NaN</td>\n",
       "      <td>0.97</td>\n",
       "      <td>15.69</td>\n",
       "      <td>16.46</td>\n",
       "      <td>NaN</td>\n",
       "      <td>0.97</td>\n",
       "      <td>24.55</td>\n",
       "      <td>34.06</td>\n",
       "      <td>3.68</td>\n",
       "      <td>5.50</td>\n",
       "      <td>3.77</td>\n",
       "      <td>NaN</td>\n",
       "      <td>NaN</td>\n",
       "    </tr>\n",
       "    <tr>\n",
       "      <th>2</th>\n",
       "      <td>Ahmedabad</td>\n",
       "      <td>2015-01-03</td>\n",
       "      <td>NaN</td>\n",
       "      <td>NaN</td>\n",
       "      <td>17.40</td>\n",
       "      <td>19.30</td>\n",
       "      <td>29.70</td>\n",
       "      <td>NaN</td>\n",
       "      <td>17.40</td>\n",
       "      <td>29.07</td>\n",
       "      <td>30.70</td>\n",
       "      <td>6.80</td>\n",
       "      <td>16.40</td>\n",
       "      <td>2.25</td>\n",
       "      <td>NaN</td>\n",
       "      <td>NaN</td>\n",
       "    </tr>\n",
       "    <tr>\n",
       "      <th>3</th>\n",
       "      <td>Ahmedabad</td>\n",
       "      <td>2015-01-04</td>\n",
       "      <td>NaN</td>\n",
       "      <td>NaN</td>\n",
       "      <td>1.70</td>\n",
       "      <td>18.48</td>\n",
       "      <td>17.97</td>\n",
       "      <td>NaN</td>\n",
       "      <td>1.70</td>\n",
       "      <td>18.59</td>\n",
       "      <td>36.08</td>\n",
       "      <td>4.43</td>\n",
       "      <td>10.14</td>\n",
       "      <td>1.00</td>\n",
       "      <td>NaN</td>\n",
       "      <td>NaN</td>\n",
       "    </tr>\n",
       "    <tr>\n",
       "      <th>4</th>\n",
       "      <td>Ahmedabad</td>\n",
       "      <td>2015-01-05</td>\n",
       "      <td>NaN</td>\n",
       "      <td>NaN</td>\n",
       "      <td>22.10</td>\n",
       "      <td>21.42</td>\n",
       "      <td>37.76</td>\n",
       "      <td>NaN</td>\n",
       "      <td>22.10</td>\n",
       "      <td>39.33</td>\n",
       "      <td>39.31</td>\n",
       "      <td>7.01</td>\n",
       "      <td>18.89</td>\n",
       "      <td>2.78</td>\n",
       "      <td>NaN</td>\n",
       "      <td>NaN</td>\n",
       "    </tr>\n",
       "  </tbody>\n",
       "</table>\n",
       "</div>"
      ],
      "text/plain": [
       "        City        Date  PM2.5  PM10     NO    NO2    NOx  NH3     CO    SO2  \\\n",
       "0  Ahmedabad  2015-01-01    NaN   NaN   0.92  18.22  17.15  NaN   0.92  27.64   \n",
       "1  Ahmedabad  2015-01-02    NaN   NaN   0.97  15.69  16.46  NaN   0.97  24.55   \n",
       "2  Ahmedabad  2015-01-03    NaN   NaN  17.40  19.30  29.70  NaN  17.40  29.07   \n",
       "3  Ahmedabad  2015-01-04    NaN   NaN   1.70  18.48  17.97  NaN   1.70  18.59   \n",
       "4  Ahmedabad  2015-01-05    NaN   NaN  22.10  21.42  37.76  NaN  22.10  39.33   \n",
       "\n",
       "       O3  Benzene  Toluene  Xylene  AQI AQI_Bucket  \n",
       "0  133.36     0.00     0.02    0.00  NaN        NaN  \n",
       "1   34.06     3.68     5.50    3.77  NaN        NaN  \n",
       "2   30.70     6.80    16.40    2.25  NaN        NaN  \n",
       "3   36.08     4.43    10.14    1.00  NaN        NaN  \n",
       "4   39.31     7.01    18.89    2.78  NaN        NaN  "
      ]
     },
     "execution_count": 3,
     "metadata": {},
     "output_type": "execute_result"
    }
   ],
   "source": [
    "df.head()"
   ]
  },
  {
   "cell_type": "code",
   "execution_count": 4,
   "id": "cc8ed2fb",
   "metadata": {},
   "outputs": [
    {
     "data": {
      "text/plain": [
       "25"
      ]
     },
     "execution_count": 4,
     "metadata": {},
     "output_type": "execute_result"
    }
   ],
   "source": [
    "len(df['City'].unique())"
   ]
  },
  {
   "cell_type": "code",
   "execution_count": 5,
   "id": "d3ec380d",
   "metadata": {},
   "outputs": [],
   "source": [
    "l=df['City'].value_counts().head(10).index"
   ]
  },
  {
   "cell_type": "code",
   "execution_count": 6,
   "id": "a7b8c9a0",
   "metadata": {},
   "outputs": [
    {
     "data": {
      "text/plain": [
       "Index(['Ahmedabad', 'Delhi', 'Mumbai', 'Bengaluru', 'Lucknow', 'Chennai',\n",
       "       'Hyderabad', 'Patna', 'Gurugram', 'Visakhapatnam'],\n",
       "      dtype='object')"
      ]
     },
     "execution_count": 6,
     "metadata": {},
     "output_type": "execute_result"
    }
   ],
   "source": [
    "l"
   ]
  },
  {
   "cell_type": "code",
   "execution_count": 7,
   "id": "11bd7ecd",
   "metadata": {},
   "outputs": [
    {
     "name": "stdout",
     "output_type": "stream",
     "text": [
      "<class 'pandas.core.frame.DataFrame'>\n",
      "RangeIndex: 28474 entries, 0 to 28473\n",
      "Data columns (total 16 columns):\n",
      " #   Column      Non-Null Count  Dtype  \n",
      "---  ------      --------------  -----  \n",
      " 0   City        28474 non-null  object \n",
      " 1   Date        28474 non-null  object \n",
      " 2   PM2.5       23920 non-null  float64\n",
      " 3   PM10        17465 non-null  float64\n",
      " 4   NO          25011 non-null  float64\n",
      " 5   NO2         24966 non-null  float64\n",
      " 6   NOx         24330 non-null  float64\n",
      " 7   NH3         18335 non-null  float64\n",
      " 8   CO          26452 non-null  float64\n",
      " 9   SO2         24674 non-null  float64\n",
      " 10  O3          24526 non-null  float64\n",
      " 11  Benzene     22964 non-null  float64\n",
      " 12  Toluene     20635 non-null  float64\n",
      " 13  Xylene      11239 non-null  float64\n",
      " 14  AQI         23894 non-null  float64\n",
      " 15  AQI_Bucket  23894 non-null  object \n",
      "dtypes: float64(13), object(3)\n",
      "memory usage: 3.5+ MB\n"
     ]
    }
   ],
   "source": [
    "df.info()"
   ]
  },
  {
   "cell_type": "code",
   "execution_count": 8,
   "id": "6113408d",
   "metadata": {},
   "outputs": [
    {
     "data": {
      "text/html": [
       "<div>\n",
       "<style scoped>\n",
       "    .dataframe tbody tr th:only-of-type {\n",
       "        vertical-align: middle;\n",
       "    }\n",
       "\n",
       "    .dataframe tbody tr th {\n",
       "        vertical-align: top;\n",
       "    }\n",
       "\n",
       "    .dataframe thead th {\n",
       "        text-align: right;\n",
       "    }\n",
       "</style>\n",
       "<table border=\"1\" class=\"dataframe\">\n",
       "  <thead>\n",
       "    <tr style=\"text-align: right;\">\n",
       "      <th></th>\n",
       "      <th>City</th>\n",
       "      <th>PM2.5</th>\n",
       "      <th>PM10</th>\n",
       "      <th>NO</th>\n",
       "      <th>NO2</th>\n",
       "      <th>NOx</th>\n",
       "      <th>NH3</th>\n",
       "      <th>CO</th>\n",
       "      <th>SO2</th>\n",
       "      <th>O3</th>\n",
       "      <th>Benzene</th>\n",
       "      <th>Toluene</th>\n",
       "      <th>Xylene</th>\n",
       "      <th>AQI</th>\n",
       "      <th>Year</th>\n",
       "      <th>Month</th>\n",
       "      <th>Day</th>\n",
       "    </tr>\n",
       "  </thead>\n",
       "  <tbody>\n",
       "    <tr>\n",
       "      <th>0</th>\n",
       "      <td>Ahmedabad</td>\n",
       "      <td>NaN</td>\n",
       "      <td>NaN</td>\n",
       "      <td>0.92</td>\n",
       "      <td>18.22</td>\n",
       "      <td>17.15</td>\n",
       "      <td>NaN</td>\n",
       "      <td>0.92</td>\n",
       "      <td>27.64</td>\n",
       "      <td>133.36</td>\n",
       "      <td>0.00</td>\n",
       "      <td>0.02</td>\n",
       "      <td>0.00</td>\n",
       "      <td>NaN</td>\n",
       "      <td>2015</td>\n",
       "      <td>01</td>\n",
       "      <td>1</td>\n",
       "    </tr>\n",
       "    <tr>\n",
       "      <th>1</th>\n",
       "      <td>Ahmedabad</td>\n",
       "      <td>NaN</td>\n",
       "      <td>NaN</td>\n",
       "      <td>0.97</td>\n",
       "      <td>15.69</td>\n",
       "      <td>16.46</td>\n",
       "      <td>NaN</td>\n",
       "      <td>0.97</td>\n",
       "      <td>24.55</td>\n",
       "      <td>34.06</td>\n",
       "      <td>3.68</td>\n",
       "      <td>5.50</td>\n",
       "      <td>3.77</td>\n",
       "      <td>NaN</td>\n",
       "      <td>2015</td>\n",
       "      <td>01</td>\n",
       "      <td>2</td>\n",
       "    </tr>\n",
       "    <tr>\n",
       "      <th>2</th>\n",
       "      <td>Ahmedabad</td>\n",
       "      <td>NaN</td>\n",
       "      <td>NaN</td>\n",
       "      <td>17.40</td>\n",
       "      <td>19.30</td>\n",
       "      <td>29.70</td>\n",
       "      <td>NaN</td>\n",
       "      <td>17.40</td>\n",
       "      <td>29.07</td>\n",
       "      <td>30.70</td>\n",
       "      <td>6.80</td>\n",
       "      <td>16.40</td>\n",
       "      <td>2.25</td>\n",
       "      <td>NaN</td>\n",
       "      <td>2015</td>\n",
       "      <td>01</td>\n",
       "      <td>3</td>\n",
       "    </tr>\n",
       "    <tr>\n",
       "      <th>3</th>\n",
       "      <td>Ahmedabad</td>\n",
       "      <td>NaN</td>\n",
       "      <td>NaN</td>\n",
       "      <td>1.70</td>\n",
       "      <td>18.48</td>\n",
       "      <td>17.97</td>\n",
       "      <td>NaN</td>\n",
       "      <td>1.70</td>\n",
       "      <td>18.59</td>\n",
       "      <td>36.08</td>\n",
       "      <td>4.43</td>\n",
       "      <td>10.14</td>\n",
       "      <td>1.00</td>\n",
       "      <td>NaN</td>\n",
       "      <td>2015</td>\n",
       "      <td>01</td>\n",
       "      <td>4</td>\n",
       "    </tr>\n",
       "    <tr>\n",
       "      <th>4</th>\n",
       "      <td>Ahmedabad</td>\n",
       "      <td>NaN</td>\n",
       "      <td>NaN</td>\n",
       "      <td>22.10</td>\n",
       "      <td>21.42</td>\n",
       "      <td>37.76</td>\n",
       "      <td>NaN</td>\n",
       "      <td>22.10</td>\n",
       "      <td>39.33</td>\n",
       "      <td>39.31</td>\n",
       "      <td>7.01</td>\n",
       "      <td>18.89</td>\n",
       "      <td>2.78</td>\n",
       "      <td>NaN</td>\n",
       "      <td>2015</td>\n",
       "      <td>01</td>\n",
       "      <td>5</td>\n",
       "    </tr>\n",
       "    <tr>\n",
       "      <th>...</th>\n",
       "      <td>...</td>\n",
       "      <td>...</td>\n",
       "      <td>...</td>\n",
       "      <td>...</td>\n",
       "      <td>...</td>\n",
       "      <td>...</td>\n",
       "      <td>...</td>\n",
       "      <td>...</td>\n",
       "      <td>...</td>\n",
       "      <td>...</td>\n",
       "      <td>...</td>\n",
       "      <td>...</td>\n",
       "      <td>...</td>\n",
       "      <td>...</td>\n",
       "      <td>...</td>\n",
       "      <td>...</td>\n",
       "      <td>...</td>\n",
       "    </tr>\n",
       "    <tr>\n",
       "      <th>28469</th>\n",
       "      <td>Visakhapatnam</td>\n",
       "      <td>15.02</td>\n",
       "      <td>50.94</td>\n",
       "      <td>7.68</td>\n",
       "      <td>25.06</td>\n",
       "      <td>19.54</td>\n",
       "      <td>12.47</td>\n",
       "      <td>0.47</td>\n",
       "      <td>8.55</td>\n",
       "      <td>23.30</td>\n",
       "      <td>2.24</td>\n",
       "      <td>12.07</td>\n",
       "      <td>0.73</td>\n",
       "      <td>41.0</td>\n",
       "      <td>2020</td>\n",
       "      <td>06</td>\n",
       "      <td>27</td>\n",
       "    </tr>\n",
       "    <tr>\n",
       "      <th>28470</th>\n",
       "      <td>Visakhapatnam</td>\n",
       "      <td>24.38</td>\n",
       "      <td>74.09</td>\n",
       "      <td>3.42</td>\n",
       "      <td>26.06</td>\n",
       "      <td>16.53</td>\n",
       "      <td>11.99</td>\n",
       "      <td>0.52</td>\n",
       "      <td>12.72</td>\n",
       "      <td>30.14</td>\n",
       "      <td>0.74</td>\n",
       "      <td>2.21</td>\n",
       "      <td>0.38</td>\n",
       "      <td>70.0</td>\n",
       "      <td>2020</td>\n",
       "      <td>06</td>\n",
       "      <td>28</td>\n",
       "    </tr>\n",
       "    <tr>\n",
       "      <th>28471</th>\n",
       "      <td>Visakhapatnam</td>\n",
       "      <td>22.91</td>\n",
       "      <td>65.73</td>\n",
       "      <td>3.45</td>\n",
       "      <td>29.53</td>\n",
       "      <td>18.33</td>\n",
       "      <td>10.71</td>\n",
       "      <td>0.48</td>\n",
       "      <td>8.42</td>\n",
       "      <td>30.96</td>\n",
       "      <td>0.01</td>\n",
       "      <td>0.01</td>\n",
       "      <td>0.00</td>\n",
       "      <td>68.0</td>\n",
       "      <td>2020</td>\n",
       "      <td>06</td>\n",
       "      <td>29</td>\n",
       "    </tr>\n",
       "    <tr>\n",
       "      <th>28472</th>\n",
       "      <td>Visakhapatnam</td>\n",
       "      <td>16.64</td>\n",
       "      <td>49.97</td>\n",
       "      <td>4.05</td>\n",
       "      <td>29.26</td>\n",
       "      <td>18.80</td>\n",
       "      <td>10.03</td>\n",
       "      <td>0.52</td>\n",
       "      <td>9.84</td>\n",
       "      <td>28.30</td>\n",
       "      <td>0.00</td>\n",
       "      <td>0.00</td>\n",
       "      <td>0.00</td>\n",
       "      <td>54.0</td>\n",
       "      <td>2020</td>\n",
       "      <td>06</td>\n",
       "      <td>30</td>\n",
       "    </tr>\n",
       "    <tr>\n",
       "      <th>28473</th>\n",
       "      <td>Visakhapatnam</td>\n",
       "      <td>15.00</td>\n",
       "      <td>66.00</td>\n",
       "      <td>0.40</td>\n",
       "      <td>26.85</td>\n",
       "      <td>14.05</td>\n",
       "      <td>5.20</td>\n",
       "      <td>0.59</td>\n",
       "      <td>2.10</td>\n",
       "      <td>17.05</td>\n",
       "      <td>NaN</td>\n",
       "      <td>NaN</td>\n",
       "      <td>NaN</td>\n",
       "      <td>50.0</td>\n",
       "      <td>2020</td>\n",
       "      <td>07</td>\n",
       "      <td>1</td>\n",
       "    </tr>\n",
       "  </tbody>\n",
       "</table>\n",
       "<p>28474 rows × 17 columns</p>\n",
       "</div>"
      ],
      "text/plain": [
       "                City  PM2.5   PM10     NO    NO2    NOx    NH3     CO    SO2  \\\n",
       "0          Ahmedabad    NaN    NaN   0.92  18.22  17.15    NaN   0.92  27.64   \n",
       "1          Ahmedabad    NaN    NaN   0.97  15.69  16.46    NaN   0.97  24.55   \n",
       "2          Ahmedabad    NaN    NaN  17.40  19.30  29.70    NaN  17.40  29.07   \n",
       "3          Ahmedabad    NaN    NaN   1.70  18.48  17.97    NaN   1.70  18.59   \n",
       "4          Ahmedabad    NaN    NaN  22.10  21.42  37.76    NaN  22.10  39.33   \n",
       "...              ...    ...    ...    ...    ...    ...    ...    ...    ...   \n",
       "28469  Visakhapatnam  15.02  50.94   7.68  25.06  19.54  12.47   0.47   8.55   \n",
       "28470  Visakhapatnam  24.38  74.09   3.42  26.06  16.53  11.99   0.52  12.72   \n",
       "28471  Visakhapatnam  22.91  65.73   3.45  29.53  18.33  10.71   0.48   8.42   \n",
       "28472  Visakhapatnam  16.64  49.97   4.05  29.26  18.80  10.03   0.52   9.84   \n",
       "28473  Visakhapatnam  15.00  66.00   0.40  26.85  14.05   5.20   0.59   2.10   \n",
       "\n",
       "           O3  Benzene  Toluene  Xylene   AQI  Year Month  Day  \n",
       "0      133.36     0.00     0.02    0.00   NaN  2015    01    1  \n",
       "1       34.06     3.68     5.50    3.77   NaN  2015    01    2  \n",
       "2       30.70     6.80    16.40    2.25   NaN  2015    01    3  \n",
       "3       36.08     4.43    10.14    1.00   NaN  2015    01    4  \n",
       "4       39.31     7.01    18.89    2.78   NaN  2015    01    5  \n",
       "...       ...      ...      ...     ...   ...   ...   ...  ...  \n",
       "28469   23.30     2.24    12.07    0.73  41.0  2020    06   27  \n",
       "28470   30.14     0.74     2.21    0.38  70.0  2020    06   28  \n",
       "28471   30.96     0.01     0.01    0.00  68.0  2020    06   29  \n",
       "28472   28.30     0.00     0.00    0.00  54.0  2020    06   30  \n",
       "28473   17.05      NaN      NaN     NaN  50.0  2020    07    1  \n",
       "\n",
       "[28474 rows x 17 columns]"
      ]
     },
     "execution_count": 8,
     "metadata": {},
     "output_type": "execute_result"
    }
   ],
   "source": [
    "df[[\"Year\",\"Month\",\"Day\"]] = df[\"Date\"].str.split(\"-\",expand=True)\n",
    "df[\"Year\"] = df[\"Year\"].astype(int)\n",
    "df[\"Day\"] = df[\"Day\"].astype(int)\n",
    "dict = {\n",
    "            'Jan': 1,\n",
    "            'Feb': 2,\n",
    "            'Mar': 3,\n",
    "            'Apr': 4,\n",
    "            'May': 5,\n",
    "            'Jun': 6,\n",
    "            'Jul': 7,\n",
    "            'Aug': 8,\n",
    "            'Sep': 9, \n",
    "            'Oct': 10,\n",
    "            'Nov': 11,\n",
    "            'Dec': 12\n",
    "    }\n",
    "df[\"Month\"].replace(dict,inplace=True)\n",
    "df=df.drop([\"Date\",\"AQI_Bucket\"],axis=1)\n",
    "df"
   ]
  },
  {
   "cell_type": "code",
   "execution_count": 9,
   "id": "279d06d8",
   "metadata": {},
   "outputs": [
    {
     "name": "stdout",
     "output_type": "stream",
     "text": [
      "<class 'pandas.core.frame.DataFrame'>\n",
      "RangeIndex: 28474 entries, 0 to 28473\n",
      "Data columns (total 17 columns):\n",
      " #   Column   Non-Null Count  Dtype  \n",
      "---  ------   --------------  -----  \n",
      " 0   City     28474 non-null  object \n",
      " 1   PM2.5    23920 non-null  float64\n",
      " 2   PM10     17465 non-null  float64\n",
      " 3   NO       25011 non-null  float64\n",
      " 4   NO2      24966 non-null  float64\n",
      " 5   NOx      24330 non-null  float64\n",
      " 6   NH3      18335 non-null  float64\n",
      " 7   CO       26452 non-null  float64\n",
      " 8   SO2      24674 non-null  float64\n",
      " 9   O3       24526 non-null  float64\n",
      " 10  Benzene  22964 non-null  float64\n",
      " 11  Toluene  20635 non-null  float64\n",
      " 12  Xylene   11239 non-null  float64\n",
      " 13  AQI      23894 non-null  float64\n",
      " 14  Year     28474 non-null  int32  \n",
      " 15  Month    28474 non-null  object \n",
      " 16  Day      28474 non-null  int32  \n",
      "dtypes: float64(13), int32(2), object(2)\n",
      "memory usage: 3.5+ MB\n"
     ]
    }
   ],
   "source": [
    "df.info()"
   ]
  },
  {
   "cell_type": "markdown",
   "id": "dd407c79",
   "metadata": {},
   "source": [
    "## Numerical Features"
   ]
  },
  {
   "cell_type": "code",
   "execution_count": 10,
   "id": "87d91897",
   "metadata": {},
   "outputs": [],
   "source": [
    "Numerical_features=[features for features in df.columns if df[features].dtype!='O']"
   ]
  },
  {
   "cell_type": "code",
   "execution_count": 11,
   "id": "704e4f66",
   "metadata": {},
   "outputs": [
    {
     "data": {
      "text/plain": [
       "['PM2.5',\n",
       " 'PM10',\n",
       " 'NO',\n",
       " 'NO2',\n",
       " 'NOx',\n",
       " 'NH3',\n",
       " 'CO',\n",
       " 'SO2',\n",
       " 'O3',\n",
       " 'Benzene',\n",
       " 'Toluene',\n",
       " 'Xylene',\n",
       " 'AQI',\n",
       " 'Year',\n",
       " 'Day']"
      ]
     },
     "execution_count": 11,
     "metadata": {},
     "output_type": "execute_result"
    }
   ],
   "source": [
    "Numerical_features"
   ]
  },
  {
   "cell_type": "code",
   "execution_count": 12,
   "id": "25725226",
   "metadata": {},
   "outputs": [],
   "source": [
    "Categorical_features=[features for features in df.columns if features not in Numerical_features]"
   ]
  },
  {
   "cell_type": "code",
   "execution_count": 13,
   "id": "d893ebb3",
   "metadata": {},
   "outputs": [
    {
     "data": {
      "text/plain": [
       "['City', 'Month']"
      ]
     },
     "execution_count": 13,
     "metadata": {},
     "output_type": "execute_result"
    }
   ],
   "source": [
    "Categorical_features"
   ]
  },
  {
   "cell_type": "code",
   "execution_count": 14,
   "id": "fd6c2560",
   "metadata": {},
   "outputs": [
    {
     "name": "stdout",
     "output_type": "stream",
     "text": [
      "No of unique values in City:25\n",
      "No of unique values in Month:12\n"
     ]
    }
   ],
   "source": [
    "for features in Categorical_features:\n",
    "    print(f\"No of unique values in {features}:{len(df[features].unique())}\")"
   ]
  },
  {
   "cell_type": "markdown",
   "id": "f485eef5",
   "metadata": {},
   "source": [
    "## Missing Values:"
   ]
  },
  {
   "cell_type": "code",
   "execution_count": 15,
   "id": "6685c0d5",
   "metadata": {},
   "outputs": [
    {
     "data": {
      "text/plain": [
       "City           0\n",
       "PM2.5       4554\n",
       "PM10       11009\n",
       "NO          3463\n",
       "NO2         3508\n",
       "NOx         4144\n",
       "NH3        10139\n",
       "CO          2022\n",
       "SO2         3800\n",
       "O3          3948\n",
       "Benzene     5510\n",
       "Toluene     7839\n",
       "Xylene     17235\n",
       "AQI         4580\n",
       "Year           0\n",
       "Month          0\n",
       "Day            0\n",
       "dtype: int64"
      ]
     },
     "execution_count": 15,
     "metadata": {},
     "output_type": "execute_result"
    }
   ],
   "source": [
    "df.isnull().sum()"
   ]
  },
  {
   "cell_type": "code",
   "execution_count": 16,
   "id": "aab37e29",
   "metadata": {},
   "outputs": [
    {
     "data": {
      "text/plain": [
       "(28474, 17)"
      ]
     },
     "execution_count": 16,
     "metadata": {},
     "output_type": "execute_result"
    }
   ],
   "source": [
    "df.shape"
   ]
  },
  {
   "cell_type": "code",
   "execution_count": 17,
   "id": "4f6f534e",
   "metadata": {},
   "outputs": [
    {
     "name": "stdout",
     "output_type": "stream",
     "text": [
      "The percentage of null values of City is :  0.0\n",
      "The percentage of null values of PM2.5 is :  0.16\n",
      "The percentage of null values of PM10 is :  0.39\n",
      "The percentage of null values of NO is :  0.12\n",
      "The percentage of null values of NO2 is :  0.12\n",
      "The percentage of null values of NOx is :  0.15\n",
      "The percentage of null values of NH3 is :  0.36\n",
      "The percentage of null values of CO is :  0.07\n",
      "The percentage of null values of SO2 is :  0.13\n",
      "The percentage of null values of O3 is :  0.14\n",
      "The percentage of null values of Benzene is :  0.19\n",
      "The percentage of null values of Toluene is :  0.28\n",
      "The percentage of null values of Xylene is :  0.61\n",
      "The percentage of null values of AQI is :  0.16\n",
      "The percentage of null values of Year is :  0.0\n",
      "The percentage of null values of Month is :  0.0\n",
      "The percentage of null values of Day is :  0.0\n"
     ]
    }
   ],
   "source": [
    "for features in df.columns:\n",
    "    print(f\"The percentage of null values of {features} is :  {round(df[features].isnull().sum()/df.shape[0],2)}\")"
   ]
  },
  {
   "cell_type": "markdown",
   "id": "39bd6d4b",
   "metadata": {},
   "source": [
    "## Distribution of Numerical Features"
   ]
  },
  {
   "cell_type": "code",
   "execution_count": 18,
   "id": "93cd3b98",
   "metadata": {},
   "outputs": [
    {
     "name": "stderr",
     "output_type": "stream",
     "text": [
      "C:\\Users\\ASUS\\AppData\\Local\\Programs\\Python\\Python310\\lib\\site-packages\\seaborn\\distributions.py:2619: FutureWarning: `distplot` is a deprecated function and will be removed in a future version. Please adapt your code to use either `displot` (a figure-level function with similar flexibility) or `histplot` (an axes-level function for histograms).\n",
      "  warnings.warn(msg, FutureWarning)\n"
     ]
    },
    {
     "data": {
      "image/png": "[encoded data removed]",
      "text/plain": [
       "<Figure size 432x288 with 1 Axes>"
      ]
     },
     "metadata": {
      "needs_background": "light"
     },
     "output_type": "display_data"
    },
    {
     "name": "stderr",
     "output_type": "stream",
     "text": [
      "C:\\Users\\ASUS\\AppData\\Local\\Programs\\Python\\Python310\\lib\\site-packages\\seaborn\\distributions.py:2619: FutureWarning: `distplot` is a deprecated function and will be removed in a future version. Please adapt your code to use either `displot` (a figure-level function with similar flexibility) or `histplot` (an axes-level function for histograms).\n",
      "  warnings.warn(msg, FutureWarning)\n"
     ]
    },
    {
     "data": {
      "image/png": "[encoded data removed]",
      "text/plain": [
       "<Figure size 432x288 with 1 Axes>"
      ]
     },
     "metadata": {
      "needs_background": "light"
     },
     "output_type": "display_data"
    },
    {
     "name": "stderr",
     "output_type": "stream",
     "text": [
      "C:\\Users\\ASUS\\AppData\\Local\\Programs\\Python\\Python310\\lib\\site-packages\\seaborn\\distributions.py:2619: FutureWarning: `distplot` is a deprecated function and will be removed in a future version. Please adapt your code to use either `displot` (a figure-level function with similar flexibility) or `histplot` (an axes-level function for histograms).\n",
      "  warnings.warn(msg, FutureWarning)\n"
     ]
    },
    {
     "data": {
      "image/png": "[encoded data removed]",
      "text/plain": [
       "<Figure size 432x288 with 1 Axes>"
      ]
     },
     "metadata": {
      "needs_background": "light"
     },
     "output_type": "display_data"
    },
    {
     "name": "stderr",
     "output_type": "stream",
     "text": [
      "C:\\Users\\ASUS\\AppData\\Local\\Programs\\Python\\Python310\\lib\\site-packages\\seaborn\\distributions.py:2619: FutureWarning: `distplot` is a deprecated function and will be removed in a future version. Please adapt your code to use either `displot` (a figure-level function with similar flexibility) or `histplot` (an axes-level function for histograms).\n",
      "  warnings.warn(msg, FutureWarning)\n"
     ]
    },
    {
     "data": {
      "image/png": "[encoded data removed]",
      "text/plain": [
       "<Figure size 432x288 with 1 Axes>"
      ]
     },
     "metadata": {
      "needs_background": "light"
     },
     "output_type": "display_data"
    },
    {
     "name": "stderr",
     "output_type": "stream",
     "text": [
      "C:\\Users\\ASUS\\AppData\\Local\\Programs\\Python\\Python310\\lib\\site-packages\\seaborn\\distributions.py:2619: FutureWarning: `distplot` is a deprecated function and will be removed in a future version. Please adapt your code to use either `displot` (a figure-level function with similar flexibility) or `histplot` (an axes-level function for histograms).\n",
      "  warnings.warn(msg, FutureWarning)\n"
     ]
    },
    {
     "data": {
      "image/png": "[encoded data removed]",
      "text/plain": [
       "<Figure size 432x288 with 1 Axes>"
      ]
     },
     "metadata": {
      "needs_background": "light"
     },
     "output_type": "display_data"
    },
    {
     "name": "stderr",
     "output_type": "stream",
     "text": [
      "C:\\Users\\ASUS\\AppData\\Local\\Programs\\Python\\Python310\\lib\\site-packages\\seaborn\\distributions.py:2619: FutureWarning: `distplot` is a deprecated function and will be removed in a future version. Please adapt your code to use either `displot` (a figure-level function with similar flexibility) or `histplot` (an axes-level function for histograms).\n",
      "  warnings.warn(msg, FutureWarning)\n"
     ]
    },
    {
     "data": {
      "image/png": "[encoded data removed]",
      "text/plain": [
       "<Figure size 432x288 with 1 Axes>"
      ]
     },
     "metadata": {
      "needs_background": "light"
     },
     "output_type": "display_data"
    },
    {
     "name": "stderr",
     "output_type": "stream",
     "text": [
      "C:\\Users\\ASUS\\AppData\\Local\\Programs\\Python\\Python310\\lib\\site-packages\\seaborn\\distributions.py:2619: FutureWarning: `distplot` is a deprecated function and will be removed in a future version. Please adapt your code to use either `displot` (a figure-level function with similar flexibility) or `histplot` (an axes-level function for histograms).\n",
      "  warnings.warn(msg, FutureWarning)\n"
     ]
    },
    {
     "data": {
      "image/png": "[encoded data removed]",
      "text/plain": [
       "<Figure size 432x288 with 1 Axes>"
      ]
     },
     "metadata": {
      "needs_background": "light"
     },
     "output_type": "display_data"
    },
    {
     "name": "stderr",
     "output_type": "stream",
     "text": [
      "C:\\Users\\ASUS\\AppData\\Local\\Programs\\Python\\Python310\\lib\\site-packages\\seaborn\\distributions.py:2619: FutureWarning: `distplot` is a deprecated function and will be removed in a future version. Please adapt your code to use either `displot` (a figure-level function with similar flexibility) or `histplot` (an axes-level function for histograms).\n",
      "  warnings.warn(msg, FutureWarning)\n"
     ]
    },
    {
     "data": {
      "image/png": "[encoded data removed]",
      "text/plain": [
       "<Figure size 432x288 with 1 Axes>"
      ]
     },
     "metadata": {
      "needs_background": "light"
     },
     "output_type": "display_data"
    },
    {
     "name": "stderr",
     "output_type": "stream",
     "text": [
      "C:\\Users\\ASUS\\AppData\\Local\\Programs\\Python\\Python310\\lib\\site-packages\\seaborn\\distributions.py:2619: FutureWarning: `distplot` is a deprecated function and will be removed in a future version. Please adapt your code to use either `displot` (a figure-level function with similar flexibility) or `histplot` (an axes-level function for histograms).\n",
      "  warnings.warn(msg, FutureWarning)\n"
     ]
    },
    {
     "data": {
      "image/png": "[encoded data removed]",
      "text/plain": [
       "<Figure size 432x288 with 1 Axes>"
      ]
     },
     "metadata": {
      "needs_background": "light"
     },
     "output_type": "display_data"
    },
    {
     "name": "stderr",
     "output_type": "stream",
     "text": [
      "C:\\Users\\ASUS\\AppData\\Local\\Programs\\Python\\Python310\\lib\\site-packages\\seaborn\\distributions.py:2619: FutureWarning: `distplot` is a deprecated function and will be removed in a future version. Please adapt your code to use either `displot` (a figure-level function with similar flexibility) or `histplot` (an axes-level function for histograms).\n",
      "  warnings.warn(msg, FutureWarning)\n"
     ]
    },
    {
     "data": {
      "image/png": "[encoded data removed]",
      "text/plain": [
       "<Figure size 432x288 with 1 Axes>"
      ]
     },
     "metadata": {
      "needs_background": "light"
     },
     "output_type": "display_data"
    },
    {
     "name": "stderr",
     "output_type": "stream",
     "text": [
      "C:\\Users\\ASUS\\AppData\\Local\\Programs\\Python\\Python310\\lib\\site-packages\\seaborn\\distributions.py:2619: FutureWarning: `distplot` is a deprecated function and will be removed in a future version. Please adapt your code to use either `displot` (a figure-level function with similar flexibility) or `histplot` (an axes-level function for histograms).\n",
      "  warnings.warn(msg, FutureWarning)\n"
     ]
    },
    {
     "data": {
      "image/png": "[encoded data removed]",
      "text/plain": [
       "<Figure size 432x288 with 1 Axes>"
      ]
     },
     "metadata": {
      "needs_background": "light"
     },
     "output_type": "display_data"
    },
    {
     "name": "stderr",
     "output_type": "stream",
     "text": [
      "C:\\Users\\ASUS\\AppData\\Local\\Programs\\Python\\Python310\\lib\\site-packages\\seaborn\\distributions.py:2619: FutureWarning: `distplot` is a deprecated function and will be removed in a future version. Please adapt your code to use either `displot` (a figure-level function with similar flexibility) or `histplot` (an axes-level function for histograms).\n",
      "  warnings.warn(msg, FutureWarning)\n"
     ]
    },
    {
     "data": {
      "image/png": "[encoded data removed]",
      "text/plain": [
       "<Figure size 432x288 with 1 Axes>"
      ]
     },
     "metadata": {
      "needs_background": "light"
     },
     "output_type": "display_data"
    },
    {
     "name": "stderr",
     "output_type": "stream",
     "text": [
      "C:\\Users\\ASUS\\AppData\\Local\\Programs\\Python\\Python310\\lib\\site-packages\\seaborn\\distributions.py:2619: FutureWarning: `distplot` is a deprecated function and will be removed in a future version. Please adapt your code to use either `displot` (a figure-level function with similar flexibility) or `histplot` (an axes-level function for histograms).\n",
      "  warnings.warn(msg, FutureWarning)\n"
     ]
    },
    {
     "data": {
      "image/png": "[encoded data removed]",
      "text/plain": [
       "<Figure size 432x288 with 1 Axes>"
      ]
     },
     "metadata": {
      "needs_background": "light"
     },
     "output_type": "display_data"
    },
    {
     "name": "stderr",
     "output_type": "stream",
     "text": [
      "C:\\Users\\ASUS\\AppData\\Local\\Programs\\Python\\Python310\\lib\\site-packages\\seaborn\\distributions.py:2619: FutureWarning: `distplot` is a deprecated function and will be removed in a future version. Please adapt your code to use either `displot` (a figure-level function with similar flexibility) or `histplot` (an axes-level function for histograms).\n",
      "  warnings.warn(msg, FutureWarning)\n"
     ]
    },
    {
     "data": {
      "image/png": "[encoded data removed]",
      "text/plain": [
       "<Figure size 432x288 with 1 Axes>"
      ]
     },
     "metadata": {
      "needs_background": "light"
     },
     "output_type": "display_data"
    },
    {
     "name": "stderr",
     "output_type": "stream",
     "text": [
      "C:\\Users\\ASUS\\AppData\\Local\\Programs\\Python\\Python310\\lib\\site-packages\\seaborn\\distributions.py:2619: FutureWarning: `distplot` is a deprecated function and will be removed in a future version. Please adapt your code to use either `displot` (a figure-level function with similar flexibility) or `histplot` (an axes-level function for histograms).\n",
      "  warnings.warn(msg, FutureWarning)\n"
     ]
    },
    {
     "data": {
      "image/png": "[encoded data removed]",
      "text/plain": [
       "<Figure size 432x288 with 1 Axes>"
      ]
     },
     "metadata": {
      "needs_background": "light"
     },
     "output_type": "display_data"
    }
   ],
   "source": [
    "for features in Numerical_features:\n",
    "    sns.distplot(df[features])\n",
    "    plt.xlabel(features)\n",
    "    plt.ylabel('PDF')\n",
    "    plt.show()"
   ]
  },
  {
   "cell_type": "code",
   "execution_count": 19,
   "id": "9a8b96e1",
   "metadata": {},
   "outputs": [
    {
     "data": {
      "image/png": "[encoded data removed]",
      "text/plain": [
       "<Figure size 432x288 with 1 Axes>"
      ]
     },
     "metadata": {
      "needs_background": "light"
     },
     "output_type": "display_data"
    },
    {
     "data": {
      "image/png": "[encoded data removed]",
      "text/plain": [
       "<Figure size 432x288 with 1 Axes>"
      ]
     },
     "metadata": {
      "needs_background": "light"
     },
     "output_type": "display_data"
    }
   ],
   "source": [
    "for features in Categorical_features:\n",
    "    sns.barplot(x =features, y ='AQI', data = df, palette ='plasma')\n",
    "    plt.show()\n",
    "    "
   ]
  },
  {
   "cell_type": "markdown",
   "id": "bc1cf517",
   "metadata": {},
   "source": [
    "## outliers"
   ]
  },
  {
   "cell_type": "code",
   "execution_count": 20,
   "id": "76ed1f4b",
   "metadata": {},
   "outputs": [
    {
     "data": {
      "image/png": "[encoded data removed]",
      "text/plain": [
       "<Figure size 432x288 with 1 Axes>"
      ]
     },
     "metadata": {
      "needs_background": "light"
     },
     "output_type": "display_data"
    },
    {
     "data": {
      "image/png": "[encoded data removed]",
      "text/plain": [
       "<Figure size 432x288 with 1 Axes>"
      ]
     },
     "metadata": {
      "needs_background": "light"
     },
     "output_type": "display_data"
    },
    {
     "data": {
      "image/png": "[encoded data removed]",
      "text/plain": [
       "<Figure size 432x288 with 1 Axes>"
      ]
     },
     "metadata": {
      "needs_background": "light"
     },
     "output_type": "display_data"
    },
    {
     "data": {
      "image/png": "[encoded data removed]",
      "text/plain": [
       "<Figure size 432x288 with 1 Axes>"
      ]
     },
     "metadata": {
      "needs_background": "light"
     },
     "output_type": "display_data"
    },
    {
     "data": {
      "image/png": "[encoded data removed]",
      "text/plain": [
       "<Figure size 432x288 with 1 Axes>"
      ]
     },
     "metadata": {
      "needs_background": "light"
     },
     "output_type": "display_data"
    },
    {
     "data": {
      "image/png": "[encoded data removed]",
      "text/plain": [
       "<Figure size 432x288 with 1 Axes>"
      ]
     },
     "metadata": {
      "needs_background": "light"
     },
     "output_type": "display_data"
    },
    {
     "data": {
      "image/png": "[encoded data removed]",
      "text/plain": [
       "<Figure size 432x288 with 1 Axes>"
      ]
     },
     "metadata": {
      "needs_background": "light"
     },
     "output_type": "display_data"
    },
    {
     "data": {
      "image/png": "[encoded data removed]",
      "text/plain": [
       "<Figure size 432x288 with 1 Axes>"
      ]
     },
     "metadata": {
      "needs_background": "light"
     },
     "output_type": "display_data"
    },
    {
     "data": {
      "image/png": "[encoded data removed]",
      "text/plain": [
       "<Figure size 432x288 with 1 Axes>"
      ]
     },
     "metadata": {
      "needs_background": "light"
     },
     "output_type": "display_data"
    },
    {
     "data": {
      "image/png": "[encoded data removed]",
      "text/plain": [
       "<Figure size 432x288 with 1 Axes>"
      ]
     },
     "metadata": {
      "needs_background": "light"
     },
     "output_type": "display_data"
    },
    {
     "data": {
      "image/png": "[encoded data removed]",
      "text/plain": [
       "<Figure size 432x288 with 1 Axes>"
      ]
     },
     "metadata": {
      "needs_background": "light"
     },
     "output_type": "display_data"
    },
    {
     "data": {
      "image/png": "[encoded data removed]",
      "text/plain": [
       "<Figure size 432x288 with 1 Axes>"
      ]
     },
     "metadata": {
      "needs_background": "light"
     },
     "output_type": "display_data"
    },
    {
     "data": {
      "image/png": "[encoded data removed]",
      "text/plain": [
       "<Figure size 432x288 with 1 Axes>"
      ]
     },
     "metadata": {
      "needs_background": "light"
     },
     "output_type": "display_data"
    },
    {
     "data": {
      "image/png": "[encoded data removed]",
      "text/plain": [
       "<Figure size 432x288 with 1 Axes>"
      ]
     },
     "metadata": {
      "needs_background": "light"
     },
     "output_type": "display_data"
    },
    {
     "data": {
      "image/png": "[encoded data removed]",
      "text/plain": [
       "<Figure size 432x288 with 1 Axes>"
      ]
     },
     "metadata": {
      "needs_background": "light"
     },
     "output_type": "display_data"
    }
   ],
   "source": [
    "for features in Numerical_features:\n",
    "    df.boxplot(column=features)\n",
    "    plt.show()"
   ]
  },
  {
   "cell_type": "code",
   "execution_count": 21,
   "id": "deb75a35",
   "metadata": {},
   "outputs": [],
   "source": [
    "for features in Numerical_features:\n",
    "    q3=df[features].quantile(0.75)\n",
    "    q1=df[features].quantile(0.25)\n",
    "    IQR=q3-q1\n",
    "    max_range=q3+(1.5*IQR)\n",
    "    min_range=q1-(1.5*IQR)\n",
    "    df.loc[df[features]>max_range,features]=max_range"
   ]
  },
  {
   "cell_type": "code",
   "execution_count": 22,
   "id": "f7fb62d3",
   "metadata": {},
   "outputs": [
    {
     "data": {
      "image/png": "[encoded data removed]",
      "text/plain": [
       "<Figure size 432x288 with 1 Axes>"
      ]
     },
     "metadata": {
      "needs_background": "light"
     },
     "output_type": "display_data"
    },
    {
     "data": {
      "image/png": "[encoded data removed]",
      "text/plain": [
       "<Figure size 432x288 with 1 Axes>"
      ]
     },
     "metadata": {
      "needs_background": "light"
     },
     "output_type": "display_data"
    },
    {
     "data": {
      "image/png": "[encoded data removed]",
      "text/plain": [
       "<Figure size 432x288 with 1 Axes>"
      ]
     },
     "metadata": {
      "needs_background": "light"
     },
     "output_type": "display_data"
    },
    {
     "data": {
      "image/png": "[encoded data removed]",
      "text/plain": [
       "<Figure size 432x288 with 1 Axes>"
      ]
     },
     "metadata": {
      "needs_background": "light"
     },
     "output_type": "display_data"
    },
    {
     "data": {
      "image/png": "[encoded data removed]",
      "text/plain": [
       "<Figure size 432x288 with 1 Axes>"
      ]
     },
     "metadata": {
      "needs_background": "light"
     },
     "output_type": "display_data"
    },
    {
     "data": {
      "image/png": "[encoded data removed]",
      "text/plain": [
       "<Figure size 432x288 with 1 Axes>"
      ]
     },
     "metadata": {
      "needs_background": "light"
     },
     "output_type": "display_data"
    },
    {
     "data": {
      "image/png": "[encoded data removed]",
      "text/plain": [
       "<Figure size 432x288 with 1 Axes>"
      ]
     },
     "metadata": {
      "needs_background": "light"
     },
     "output_type": "display_data"
    },
    {
     "data": {
      "image/png": "[encoded data removed]",
      "text/plain": [
       "<Figure size 432x288 with 1 Axes>"
      ]
     },
     "metadata": {
      "needs_background": "light"
     },
     "output_type": "display_data"
    },
    {
     "data": {
      "image/png": "[encoded data removed]",
      "text/plain": [
       "<Figure size 432x288 with 1 Axes>"
      ]
     },
     "metadata": {
      "needs_background": "light"
     },
     "output_type": "display_data"
    },
    {
     "data": {
      "image/png": "[encoded data removed]",
      "text/plain": [
       "<Figure size 432x288 with 1 Axes>"
      ]
     },
     "metadata": {
      "needs_background": "light"
     },
     "output_type": "display_data"
    },
    {
     "data": {
      "image/png": "[encoded data removed]",
      "text/plain": [
       "<Figure size 432x288 with 1 Axes>"
      ]
     },
     "metadata": {
      "needs_background": "light"
     },
     "output_type": "display_data"
    },
    {
     "data": {
      "image/png": "[encoded data removed]",
      "text/plain": [
       "<Figure size 432x288 with 1 Axes>"
      ]
     },
     "metadata": {
      "needs_background": "light"
     },
     "output_type": "display_data"
    },
    {
     "data": {
      "image/png": "[encoded data removed]",
      "text/plain": [
       "<Figure size 432x288 with 1 Axes>"
      ]
     },
     "metadata": {
      "needs_background": "light"
     },
     "output_type": "display_data"
    },
    {
     "data": {
      "image/png": "[encoded data removed]",
      "text/plain": [
       "<Figure size 432x288 with 1 Axes>"
      ]
     },
     "metadata": {
      "needs_background": "light"
     },
     "output_type": "display_data"
    },
    {
     "data": {
      "image/png": "[encoded data removed]",
      "text/plain": [
       "<Figure size 432x288 with 1 Axes>"
      ]
     },
     "metadata": {
      "needs_background": "light"
     },
     "output_type": "display_data"
    }
   ],
   "source": [
    "for features in Numerical_features:\n",
    "    df.boxplot(column=features)\n",
    "    plt.show()"
   ]
  },
  {
   "cell_type": "code",
   "execution_count": 23,
   "id": "2ed413b3",
   "metadata": {},
   "outputs": [
    {
     "data": {
      "text/plain": [
       "Index(['City', 'PM2.5', 'PM10', 'NO', 'NO2', 'NOx', 'NH3', 'CO', 'SO2', 'O3',\n",
       "       'Benzene', 'Toluene', 'Xylene', 'AQI', 'Year', 'Month', 'Day'],\n",
       "      dtype='object')"
      ]
     },
     "execution_count": 23,
     "metadata": {},
     "output_type": "execute_result"
    }
   ],
   "source": [
    "df.columns"
   ]
  },
  {
   "cell_type": "code",
   "execution_count": 24,
   "id": "b4974465",
   "metadata": {},
   "outputs": [],
   "source": [
    "#sns.pairplot(df)"
   ]
  },
  {
   "cell_type": "markdown",
   "id": "18307460",
   "metadata": {},
   "source": [
    "## FEATURE ENGINEERING"
   ]
  },
  {
   "cell_type": "markdown",
   "id": "e8211b78",
   "metadata": {},
   "source": [
    "        "
   ]
  },
  {
   "cell_type": "code",
   "execution_count": 25,
   "id": "da10b33d",
   "metadata": {},
   "outputs": [],
   "source": [
    "for features in df.columns:\n",
    "    df[features].fillna(df[features].mode(),inplace=True)"
   ]
  },
  {
   "cell_type": "code",
   "execution_count": 26,
   "id": "bd354e46",
   "metadata": {},
   "outputs": [
    {
     "data": {
      "text/plain": [
       "City       0\n",
       "PM2.5      0\n",
       "PM10       0\n",
       "NO         0\n",
       "NO2        0\n",
       "NOx        0\n",
       "NH3        0\n",
       "CO         0\n",
       "SO2        0\n",
       "O3         0\n",
       "Benzene    0\n",
       "Toluene    0\n",
       "Xylene     0\n",
       "AQI        0\n",
       "Year       0\n",
       "Month      0\n",
       "Day        0\n",
       "dtype: int64"
      ]
     },
     "execution_count": 26,
     "metadata": {},
     "output_type": "execute_result"
    }
   ],
   "source": [
    "\n",
    "df['PM2.5'].median()\n",
    "df['PM10'].median()\n",
    "df['NO'].median()\n",
    "df['NO2'].median()\n",
    "df['NOx'].median()\n",
    "df['NH3'].median()\n",
    "df['CO'].median()\n",
    "df['SO2'].median()\n",
    "df['O3'].median()\n",
    "df['Benzene'].median()\n",
    "df['Toluene'].median()\n",
    "df['Xylene'].median()\n",
    "df['AQI'].median()\n",
    "df['PM2.5'].fillna(df['PM2.5'].median(),inplace=True)\n",
    "df['PM10'].fillna(df['PM10'].median(),inplace=True)\n",
    "df['NO'].fillna(df['NO'].median(),inplace=True)\n",
    "df['NO2'].fillna(df['NO2'].median(),inplace=True)\n",
    "df['NOx'].fillna(df['NOx'].median(),inplace=True)\n",
    "df['NH3'].fillna(df['NH3'].median(),inplace=True)\n",
    "df['CO'].fillna(df['CO'].median(),inplace=True)\n",
    "df['SO2'].fillna(df['SO2'].median(),inplace=True)\n",
    "df['O3'].fillna(df['O3'].median(),inplace=True)\n",
    "df['Benzene'].fillna(df['Benzene'].median(),inplace=True)\n",
    "df['Toluene'].fillna(df['Toluene'].median(),inplace=True)\n",
    "df['Xylene'].fillna(df['Xylene'].median(),inplace=True)\n",
    "df['AQI'].fillna(df['AQI'].median(),inplace=True)\n",
    "\n",
    "df.isnull().sum()"
   ]
  },
  {
   "cell_type": "code",
   "execution_count": 27,
   "id": "1c2ffd49",
   "metadata": {},
   "outputs": [],
   "source": [
    "## SCALING\n",
    "## MIN_MAX_SCALER\n",
    "## STANDARDSCALER"
   ]
  },
  {
   "cell_type": "code",
   "execution_count": 28,
   "id": "2f6f8284",
   "metadata": {},
   "outputs": [
    {
     "data": {
      "text/plain": [
       "(28474, 17)"
      ]
     },
     "execution_count": 28,
     "metadata": {},
     "output_type": "execute_result"
    }
   ],
   "source": [
    "df.shape"
   ]
  },
  {
   "cell_type": "code",
   "execution_count": 29,
   "id": "0753dddf",
   "metadata": {},
   "outputs": [
    {
     "data": {
      "text/html": [
       "<div>\n",
       "<style scoped>\n",
       "    .dataframe tbody tr th:only-of-type {\n",
       "        vertical-align: middle;\n",
       "    }\n",
       "\n",
       "    .dataframe tbody tr th {\n",
       "        vertical-align: top;\n",
       "    }\n",
       "\n",
       "    .dataframe thead th {\n",
       "        text-align: right;\n",
       "    }\n",
       "</style>\n",
       "<table border=\"1\" class=\"dataframe\">\n",
       "  <thead>\n",
       "    <tr style=\"text-align: right;\">\n",
       "      <th></th>\n",
       "      <th>count</th>\n",
       "      <th>mean</th>\n",
       "      <th>std</th>\n",
       "      <th>min</th>\n",
       "      <th>25%</th>\n",
       "      <th>50%</th>\n",
       "      <th>75%</th>\n",
       "      <th>max</th>\n",
       "    </tr>\n",
       "  </thead>\n",
       "  <tbody>\n",
       "    <tr>\n",
       "      <th>PM2.5</th>\n",
       "      <td>28474.0</td>\n",
       "      <td>60.787798</td>\n",
       "      <td>40.224472</td>\n",
       "      <td>0.04</td>\n",
       "      <td>33.4800</td>\n",
       "      <td>50.220</td>\n",
       "      <td>73.9800</td>\n",
       "      <td>161.48750</td>\n",
       "    </tr>\n",
       "    <tr>\n",
       "      <th>PM10</th>\n",
       "      <td>28474.0</td>\n",
       "      <td>109.523038</td>\n",
       "      <td>58.577664</td>\n",
       "      <td>0.01</td>\n",
       "      <td>84.0200</td>\n",
       "      <td>98.820</td>\n",
       "      <td>113.7725</td>\n",
       "      <td>292.57500</td>\n",
       "    </tr>\n",
       "    <tr>\n",
       "      <th>NO</th>\n",
       "      <td>28474.0</td>\n",
       "      <td>14.275951</td>\n",
       "      <td>11.841107</td>\n",
       "      <td>0.02</td>\n",
       "      <td>6.3600</td>\n",
       "      <td>10.080</td>\n",
       "      <td>17.9575</td>\n",
       "      <td>42.48500</td>\n",
       "    </tr>\n",
       "    <tr>\n",
       "      <th>NO2</th>\n",
       "      <td>28474.0</td>\n",
       "      <td>26.959879</td>\n",
       "      <td>18.645249</td>\n",
       "      <td>0.01</td>\n",
       "      <td>13.2500</td>\n",
       "      <td>22.110</td>\n",
       "      <td>35.0900</td>\n",
       "      <td>77.15125</td>\n",
       "    </tr>\n",
       "    <tr>\n",
       "      <th>NOx</th>\n",
       "      <td>28474.0</td>\n",
       "      <td>29.124795</td>\n",
       "      <td>21.515255</td>\n",
       "      <td>0.00</td>\n",
       "      <td>14.8100</td>\n",
       "      <td>23.910</td>\n",
       "      <td>36.5000</td>\n",
       "      <td>82.66875</td>\n",
       "    </tr>\n",
       "    <tr>\n",
       "      <th>NH3</th>\n",
       "      <td>28474.0</td>\n",
       "      <td>19.746812</td>\n",
       "      <td>13.858897</td>\n",
       "      <td>0.01</td>\n",
       "      <td>12.3125</td>\n",
       "      <td>16.170</td>\n",
       "      <td>21.9600</td>\n",
       "      <td>63.04750</td>\n",
       "    </tr>\n",
       "    <tr>\n",
       "      <th>CO</th>\n",
       "      <td>28474.0</td>\n",
       "      <td>1.082381</td>\n",
       "      <td>0.802095</td>\n",
       "      <td>0.00</td>\n",
       "      <td>0.5500</td>\n",
       "      <td>0.905</td>\n",
       "      <td>1.4000</td>\n",
       "      <td>2.89500</td>\n",
       "    </tr>\n",
       "    <tr>\n",
       "      <th>SO2</th>\n",
       "      <td>28474.0</td>\n",
       "      <td>11.584720</td>\n",
       "      <td>7.984194</td>\n",
       "      <td>0.01</td>\n",
       "      <td>6.0900</td>\n",
       "      <td>9.220</td>\n",
       "      <td>14.0500</td>\n",
       "      <td>30.44000</td>\n",
       "    </tr>\n",
       "    <tr>\n",
       "      <th>O3</th>\n",
       "      <td>28474.0</td>\n",
       "      <td>33.529356</td>\n",
       "      <td>18.476751</td>\n",
       "      <td>0.01</td>\n",
       "      <td>20.8000</td>\n",
       "      <td>30.835</td>\n",
       "      <td>42.6100</td>\n",
       "      <td>85.54125</td>\n",
       "    </tr>\n",
       "    <tr>\n",
       "      <th>Benzene</th>\n",
       "      <td>28474.0</td>\n",
       "      <td>1.857064</td>\n",
       "      <td>2.127876</td>\n",
       "      <td>0.00</td>\n",
       "      <td>0.2800</td>\n",
       "      <td>1.120</td>\n",
       "      <td>2.4900</td>\n",
       "      <td>7.67500</td>\n",
       "    </tr>\n",
       "    <tr>\n",
       "      <th>Toluene</th>\n",
       "      <td>28474.0</td>\n",
       "      <td>5.500801</td>\n",
       "      <td>6.522144</td>\n",
       "      <td>0.00</td>\n",
       "      <td>1.4225</td>\n",
       "      <td>3.100</td>\n",
       "      <td>6.1400</td>\n",
       "      <td>22.33500</td>\n",
       "    </tr>\n",
       "    <tr>\n",
       "      <th>Xylene</th>\n",
       "      <td>28474.0</td>\n",
       "      <td>1.470745</td>\n",
       "      <td>1.795835</td>\n",
       "      <td>0.00</td>\n",
       "      <td>0.9800</td>\n",
       "      <td>0.980</td>\n",
       "      <td>0.9800</td>\n",
       "      <td>8.14000</td>\n",
       "    </tr>\n",
       "    <tr>\n",
       "      <th>AQI</th>\n",
       "      <td>28474.0</td>\n",
       "      <td>154.938014</td>\n",
       "      <td>98.365863</td>\n",
       "      <td>13.00</td>\n",
       "      <td>91.0000</td>\n",
       "      <td>121.000</td>\n",
       "      <td>184.0000</td>\n",
       "      <td>413.00000</td>\n",
       "    </tr>\n",
       "    <tr>\n",
       "      <th>Year</th>\n",
       "      <td>28474.0</td>\n",
       "      <td>2017.816640</td>\n",
       "      <td>1.513977</td>\n",
       "      <td>2015.00</td>\n",
       "      <td>2017.0000</td>\n",
       "      <td>2018.000</td>\n",
       "      <td>2019.0000</td>\n",
       "      <td>2020.00000</td>\n",
       "    </tr>\n",
       "    <tr>\n",
       "      <th>Day</th>\n",
       "      <td>28474.0</td>\n",
       "      <td>15.760062</td>\n",
       "      <td>8.804871</td>\n",
       "      <td>1.00</td>\n",
       "      <td>8.0000</td>\n",
       "      <td>16.000</td>\n",
       "      <td>23.0000</td>\n",
       "      <td>31.00000</td>\n",
       "    </tr>\n",
       "  </tbody>\n",
       "</table>\n",
       "</div>"
      ],
      "text/plain": [
       "           count         mean        std      min        25%       50%  \\\n",
       "PM2.5    28474.0    60.787798  40.224472     0.04    33.4800    50.220   \n",
       "PM10     28474.0   109.523038  58.577664     0.01    84.0200    98.820   \n",
       "NO       28474.0    14.275951  11.841107     0.02     6.3600    10.080   \n",
       "NO2      28474.0    26.959879  18.645249     0.01    13.2500    22.110   \n",
       "NOx      28474.0    29.124795  21.515255     0.00    14.8100    23.910   \n",
       "NH3      28474.0    19.746812  13.858897     0.01    12.3125    16.170   \n",
       "CO       28474.0     1.082381   0.802095     0.00     0.5500     0.905   \n",
       "SO2      28474.0    11.584720   7.984194     0.01     6.0900     9.220   \n",
       "O3       28474.0    33.529356  18.476751     0.01    20.8000    30.835   \n",
       "Benzene  28474.0     1.857064   2.127876     0.00     0.2800     1.120   \n",
       "Toluene  28474.0     5.500801   6.522144     0.00     1.4225     3.100   \n",
       "Xylene   28474.0     1.470745   1.795835     0.00     0.9800     0.980   \n",
       "AQI      28474.0   154.938014  98.365863    13.00    91.0000   121.000   \n",
       "Year     28474.0  2017.816640   1.513977  2015.00  2017.0000  2018.000   \n",
       "Day      28474.0    15.760062   8.804871     1.00     8.0000    16.000   \n",
       "\n",
       "               75%         max  \n",
       "PM2.5      73.9800   161.48750  \n",
       "PM10      113.7725   292.57500  \n",
       "NO         17.9575    42.48500  \n",
       "NO2        35.0900    77.15125  \n",
       "NOx        36.5000    82.66875  \n",
       "NH3        21.9600    63.04750  \n",
       "CO          1.4000     2.89500  \n",
       "SO2        14.0500    30.44000  \n",
       "O3         42.6100    85.54125  \n",
       "Benzene     2.4900     7.67500  \n",
       "Toluene     6.1400    22.33500  \n",
       "Xylene      0.9800     8.14000  \n",
       "AQI       184.0000   413.00000  \n",
       "Year     2019.0000  2020.00000  \n",
       "Day        23.0000    31.00000  "
      ]
     },
     "execution_count": 29,
     "metadata": {},
     "output_type": "execute_result"
    }
   ],
   "source": [
    "df.describe().transpose()"
   ]
  },
  {
   "cell_type": "code",
   "execution_count": 30,
   "id": "2045202f",
   "metadata": {},
   "outputs": [],
   "source": [
    "df = pd.get_dummies(df, columns = ['City'])"
   ]
  },
  {
   "cell_type": "code",
   "execution_count": 31,
   "id": "a98e8b03",
   "metadata": {},
   "outputs": [
    {
     "data": {
      "text/html": [
       "<div>\n",
       "<style scoped>\n",
       "    .dataframe tbody tr th:only-of-type {\n",
       "        vertical-align: middle;\n",
       "    }\n",
       "\n",
       "    .dataframe tbody tr th {\n",
       "        vertical-align: top;\n",
       "    }\n",
       "\n",
       "    .dataframe thead th {\n",
       "        text-align: right;\n",
       "    }\n",
       "</style>\n",
       "<table border=\"1\" class=\"dataframe\">\n",
       "  <thead>\n",
       "    <tr style=\"text-align: right;\">\n",
       "      <th></th>\n",
       "      <th>PM2.5</th>\n",
       "      <th>PM10</th>\n",
       "      <th>NO</th>\n",
       "      <th>NO2</th>\n",
       "      <th>NOx</th>\n",
       "      <th>NH3</th>\n",
       "      <th>CO</th>\n",
       "      <th>SO2</th>\n",
       "      <th>O3</th>\n",
       "      <th>Benzene</th>\n",
       "      <th>...</th>\n",
       "      <th>City_Jorapokhar</th>\n",
       "      <th>City_Kochi</th>\n",
       "      <th>City_Kolkata</th>\n",
       "      <th>City_Lucknow</th>\n",
       "      <th>City_Mumbai</th>\n",
       "      <th>City_Patna</th>\n",
       "      <th>City_Shillong</th>\n",
       "      <th>City_Talcher</th>\n",
       "      <th>City_Thiruvananthapuram</th>\n",
       "      <th>City_Visakhapatnam</th>\n",
       "    </tr>\n",
       "  </thead>\n",
       "  <tbody>\n",
       "    <tr>\n",
       "      <th>count</th>\n",
       "      <td>28474.000000</td>\n",
       "      <td>28474.000000</td>\n",
       "      <td>28474.000000</td>\n",
       "      <td>28474.000000</td>\n",
       "      <td>28474.000000</td>\n",
       "      <td>28474.000000</td>\n",
       "      <td>28474.000000</td>\n",
       "      <td>28474.000000</td>\n",
       "      <td>28474.000000</td>\n",
       "      <td>28474.000000</td>\n",
       "      <td>...</td>\n",
       "      <td>28474.000000</td>\n",
       "      <td>28474.000000</td>\n",
       "      <td>28474.000000</td>\n",
       "      <td>28474.000000</td>\n",
       "      <td>28474.000000</td>\n",
       "      <td>28474.000000</td>\n",
       "      <td>28474.000000</td>\n",
       "      <td>28474.000000</td>\n",
       "      <td>28474.000000</td>\n",
       "      <td>28474.000000</td>\n",
       "    </tr>\n",
       "    <tr>\n",
       "      <th>mean</th>\n",
       "      <td>60.787798</td>\n",
       "      <td>109.523038</td>\n",
       "      <td>14.275951</td>\n",
       "      <td>26.959879</td>\n",
       "      <td>29.124795</td>\n",
       "      <td>19.746812</td>\n",
       "      <td>1.082381</td>\n",
       "      <td>11.584720</td>\n",
       "      <td>33.529356</td>\n",
       "      <td>1.857064</td>\n",
       "      <td>...</td>\n",
       "      <td>0.041055</td>\n",
       "      <td>0.005689</td>\n",
       "      <td>0.026445</td>\n",
       "      <td>0.068413</td>\n",
       "      <td>0.070556</td>\n",
       "      <td>0.065253</td>\n",
       "      <td>0.008745</td>\n",
       "      <td>0.030343</td>\n",
       "      <td>0.039053</td>\n",
       "      <td>0.051345</td>\n",
       "    </tr>\n",
       "    <tr>\n",
       "      <th>std</th>\n",
       "      <td>40.224472</td>\n",
       "      <td>58.577664</td>\n",
       "      <td>11.841107</td>\n",
       "      <td>18.645249</td>\n",
       "      <td>21.515255</td>\n",
       "      <td>13.858897</td>\n",
       "      <td>0.802095</td>\n",
       "      <td>7.984194</td>\n",
       "      <td>18.476751</td>\n",
       "      <td>2.127876</td>\n",
       "      <td>...</td>\n",
       "      <td>0.198421</td>\n",
       "      <td>0.075215</td>\n",
       "      <td>0.160458</td>\n",
       "      <td>0.252458</td>\n",
       "      <td>0.256086</td>\n",
       "      <td>0.246975</td>\n",
       "      <td>0.093106</td>\n",
       "      <td>0.171534</td>\n",
       "      <td>0.193725</td>\n",
       "      <td>0.220705</td>\n",
       "    </tr>\n",
       "    <tr>\n",
       "      <th>min</th>\n",
       "      <td>0.040000</td>\n",
       "      <td>0.010000</td>\n",
       "      <td>0.020000</td>\n",
       "      <td>0.010000</td>\n",
       "      <td>0.000000</td>\n",
       "      <td>0.010000</td>\n",
       "      <td>0.000000</td>\n",
       "      <td>0.010000</td>\n",
       "      <td>0.010000</td>\n",
       "      <td>0.000000</td>\n",
       "      <td>...</td>\n",
       "      <td>0.000000</td>\n",
       "      <td>0.000000</td>\n",
       "      <td>0.000000</td>\n",
       "      <td>0.000000</td>\n",
       "      <td>0.000000</td>\n",
       "      <td>0.000000</td>\n",
       "      <td>0.000000</td>\n",
       "      <td>0.000000</td>\n",
       "      <td>0.000000</td>\n",
       "      <td>0.000000</td>\n",
       "    </tr>\n",
       "    <tr>\n",
       "      <th>25%</th>\n",
       "      <td>33.480000</td>\n",
       "      <td>84.020000</td>\n",
       "      <td>6.360000</td>\n",
       "      <td>13.250000</td>\n",
       "      <td>14.810000</td>\n",
       "      <td>12.312500</td>\n",
       "      <td>0.550000</td>\n",
       "      <td>6.090000</td>\n",
       "      <td>20.800000</td>\n",
       "      <td>0.280000</td>\n",
       "      <td>...</td>\n",
       "      <td>0.000000</td>\n",
       "      <td>0.000000</td>\n",
       "      <td>0.000000</td>\n",
       "      <td>0.000000</td>\n",
       "      <td>0.000000</td>\n",
       "      <td>0.000000</td>\n",
       "      <td>0.000000</td>\n",
       "      <td>0.000000</td>\n",
       "      <td>0.000000</td>\n",
       "      <td>0.000000</td>\n",
       "    </tr>\n",
       "    <tr>\n",
       "      <th>50%</th>\n",
       "      <td>50.220000</td>\n",
       "      <td>98.820000</td>\n",
       "      <td>10.080000</td>\n",
       "      <td>22.110000</td>\n",
       "      <td>23.910000</td>\n",
       "      <td>16.170000</td>\n",
       "      <td>0.905000</td>\n",
       "      <td>9.220000</td>\n",
       "      <td>30.835000</td>\n",
       "      <td>1.120000</td>\n",
       "      <td>...</td>\n",
       "      <td>0.000000</td>\n",
       "      <td>0.000000</td>\n",
       "      <td>0.000000</td>\n",
       "      <td>0.000000</td>\n",
       "      <td>0.000000</td>\n",
       "      <td>0.000000</td>\n",
       "      <td>0.000000</td>\n",
       "      <td>0.000000</td>\n",
       "      <td>0.000000</td>\n",
       "      <td>0.000000</td>\n",
       "    </tr>\n",
       "    <tr>\n",
       "      <th>75%</th>\n",
       "      <td>73.980000</td>\n",
       "      <td>113.772500</td>\n",
       "      <td>17.957500</td>\n",
       "      <td>35.090000</td>\n",
       "      <td>36.500000</td>\n",
       "      <td>21.960000</td>\n",
       "      <td>1.400000</td>\n",
       "      <td>14.050000</td>\n",
       "      <td>42.610000</td>\n",
       "      <td>2.490000</td>\n",
       "      <td>...</td>\n",
       "      <td>0.000000</td>\n",
       "      <td>0.000000</td>\n",
       "      <td>0.000000</td>\n",
       "      <td>0.000000</td>\n",
       "      <td>0.000000</td>\n",
       "      <td>0.000000</td>\n",
       "      <td>0.000000</td>\n",
       "      <td>0.000000</td>\n",
       "      <td>0.000000</td>\n",
       "      <td>0.000000</td>\n",
       "    </tr>\n",
       "    <tr>\n",
       "      <th>max</th>\n",
       "      <td>161.487500</td>\n",
       "      <td>292.575000</td>\n",
       "      <td>42.485000</td>\n",
       "      <td>77.151250</td>\n",
       "      <td>82.668750</td>\n",
       "      <td>63.047500</td>\n",
       "      <td>2.895000</td>\n",
       "      <td>30.440000</td>\n",
       "      <td>85.541250</td>\n",
       "      <td>7.675000</td>\n",
       "      <td>...</td>\n",
       "      <td>1.000000</td>\n",
       "      <td>1.000000</td>\n",
       "      <td>1.000000</td>\n",
       "      <td>1.000000</td>\n",
       "      <td>1.000000</td>\n",
       "      <td>1.000000</td>\n",
       "      <td>1.000000</td>\n",
       "      <td>1.000000</td>\n",
       "      <td>1.000000</td>\n",
       "      <td>1.000000</td>\n",
       "    </tr>\n",
       "  </tbody>\n",
       "</table>\n",
       "<p>8 rows × 40 columns</p>\n",
       "</div>"
      ],
      "text/plain": [
       "              PM2.5          PM10            NO           NO2           NOx  \\\n",
       "count  28474.000000  28474.000000  28474.000000  28474.000000  28474.000000   \n",
       "mean      60.787798    109.523038     14.275951     26.959879     29.124795   \n",
       "std       40.224472     58.577664     11.841107     18.645249     21.515255   \n",
       "min        0.040000      0.010000      0.020000      0.010000      0.000000   \n",
       "25%       33.480000     84.020000      6.360000     13.250000     14.810000   \n",
       "50%       50.220000     98.820000     10.080000     22.110000     23.910000   \n",
       "75%       73.980000    113.772500     17.957500     35.090000     36.500000   \n",
       "max      161.487500    292.575000     42.485000     77.151250     82.668750   \n",
       "\n",
       "                NH3            CO           SO2            O3       Benzene  \\\n",
       "count  28474.000000  28474.000000  28474.000000  28474.000000  28474.000000   \n",
       "mean      19.746812      1.082381     11.584720     33.529356      1.857064   \n",
       "std       13.858897      0.802095      7.984194     18.476751      2.127876   \n",
       "min        0.010000      0.000000      0.010000      0.010000      0.000000   \n",
       "25%       12.312500      0.550000      6.090000     20.800000      0.280000   \n",
       "50%       16.170000      0.905000      9.220000     30.835000      1.120000   \n",
       "75%       21.960000      1.400000     14.050000     42.610000      2.490000   \n",
       "max       63.047500      2.895000     30.440000     85.541250      7.675000   \n",
       "\n",
       "       ...  City_Jorapokhar    City_Kochi  City_Kolkata  City_Lucknow  \\\n",
       "count  ...     28474.000000  28474.000000  28474.000000  28474.000000   \n",
       "mean   ...         0.041055      0.005689      0.026445      0.068413   \n",
       "std    ...         0.198421      0.075215      0.160458      0.252458   \n",
       "min    ...         0.000000      0.000000      0.000000      0.000000   \n",
       "25%    ...         0.000000      0.000000      0.000000      0.000000   \n",
       "50%    ...         0.000000      0.000000      0.000000      0.000000   \n",
       "75%    ...         0.000000      0.000000      0.000000      0.000000   \n",
       "max    ...         1.000000      1.000000      1.000000      1.000000   \n",
       "\n",
       "        City_Mumbai    City_Patna  City_Shillong  City_Talcher  \\\n",
       "count  28474.000000  28474.000000   28474.000000  28474.000000   \n",
       "mean       0.070556      0.065253       0.008745      0.030343   \n",
       "std        0.256086      0.246975       0.093106      0.171534   \n",
       "min        0.000000      0.000000       0.000000      0.000000   \n",
       "25%        0.000000      0.000000       0.000000      0.000000   \n",
       "50%        0.000000      0.000000       0.000000      0.000000   \n",
       "75%        0.000000      0.000000       0.000000      0.000000   \n",
       "max        1.000000      1.000000       1.000000      1.000000   \n",
       "\n",
       "       City_Thiruvananthapuram  City_Visakhapatnam  \n",
       "count             28474.000000        28474.000000  \n",
       "mean                  0.039053            0.051345  \n",
       "std                   0.193725            0.220705  \n",
       "min                   0.000000            0.000000  \n",
       "25%                   0.000000            0.000000  \n",
       "50%                   0.000000            0.000000  \n",
       "75%                   0.000000            0.000000  \n",
       "max                   1.000000            1.000000  \n",
       "\n",
       "[8 rows x 40 columns]"
      ]
     },
     "execution_count": 31,
     "metadata": {},
     "output_type": "execute_result"
    }
   ],
   "source": [
    "df.describe()"
   ]
  },
  {
   "cell_type": "code",
   "execution_count": 32,
   "id": "18f96708",
   "metadata": {},
   "outputs": [
    {
     "name": "stdout",
     "output_type": "stream",
     "text": [
      "<class 'pandas.core.frame.DataFrame'>\n",
      "RangeIndex: 28474 entries, 0 to 28473\n",
      "Data columns (total 41 columns):\n",
      " #   Column                   Non-Null Count  Dtype  \n",
      "---  ------                   --------------  -----  \n",
      " 0   PM2.5                    28474 non-null  float64\n",
      " 1   PM10                     28474 non-null  float64\n",
      " 2   NO                       28474 non-null  float64\n",
      " 3   NO2                      28474 non-null  float64\n",
      " 4   NOx                      28474 non-null  float64\n",
      " 5   NH3                      28474 non-null  float64\n",
      " 6   CO                       28474 non-null  float64\n",
      " 7   SO2                      28474 non-null  float64\n",
      " 8   O3                       28474 non-null  float64\n",
      " 9   Benzene                  28474 non-null  float64\n",
      " 10  Toluene                  28474 non-null  float64\n",
      " 11  Xylene                   28474 non-null  float64\n",
      " 12  AQI                      28474 non-null  float64\n",
      " 13  Year                     28474 non-null  int32  \n",
      " 14  Month                    28474 non-null  object \n",
      " 15  Day                      28474 non-null  float64\n",
      " 16  City_Ahmedabad           28474 non-null  uint8  \n",
      " 17  City_Aizawl              28474 non-null  uint8  \n",
      " 18  City_Amaravati           28474 non-null  uint8  \n",
      " 19  City_Amritsar            28474 non-null  uint8  \n",
      " 20  City_Bengaluru           28474 non-null  uint8  \n",
      " 21  City_Bhopal              28474 non-null  uint8  \n",
      " 22  City_Brajrajnagar        28474 non-null  uint8  \n",
      " 23  City_Chandigarh          28474 non-null  uint8  \n",
      " 24  City_Chennai             28474 non-null  uint8  \n",
      " 25  City_Delhi               28474 non-null  uint8  \n",
      " 26  City_Ernakulam           28474 non-null  uint8  \n",
      " 27  City_Gurugram            28474 non-null  uint8  \n",
      " 28  City_Guwahati            28474 non-null  uint8  \n",
      " 29  City_Hyderabad           28474 non-null  uint8  \n",
      " 30  City_Jaipur              28474 non-null  uint8  \n",
      " 31  City_Jorapokhar          28474 non-null  uint8  \n",
      " 32  City_Kochi               28474 non-null  uint8  \n",
      " 33  City_Kolkata             28474 non-null  uint8  \n",
      " 34  City_Lucknow             28474 non-null  uint8  \n",
      " 35  City_Mumbai              28474 non-null  uint8  \n",
      " 36  City_Patna               28474 non-null  uint8  \n",
      " 37  City_Shillong            28474 non-null  uint8  \n",
      " 38  City_Talcher             28474 non-null  uint8  \n",
      " 39  City_Thiruvananthapuram  28474 non-null  uint8  \n",
      " 40  City_Visakhapatnam       28474 non-null  uint8  \n",
      "dtypes: float64(14), int32(1), object(1), uint8(25)\n",
      "memory usage: 4.0+ MB\n"
     ]
    }
   ],
   "source": [
    "df.info()"
   ]
  },
  {
   "cell_type": "code",
   "execution_count": 33,
   "id": "623da0fb",
   "metadata": {},
   "outputs": [
    {
     "data": {
      "text/html": [
       "<div>\n",
       "<style scoped>\n",
       "    .dataframe tbody tr th:only-of-type {\n",
       "        vertical-align: middle;\n",
       "    }\n",
       "\n",
       "    .dataframe tbody tr th {\n",
       "        vertical-align: top;\n",
       "    }\n",
       "\n",
       "    .dataframe thead th {\n",
       "        text-align: right;\n",
       "    }\n",
       "</style>\n",
       "<table border=\"1\" class=\"dataframe\">\n",
       "  <thead>\n",
       "    <tr style=\"text-align: right;\">\n",
       "      <th></th>\n",
       "      <th>PM2.5</th>\n",
       "      <th>PM10</th>\n",
       "      <th>NO</th>\n",
       "      <th>NO2</th>\n",
       "      <th>NOx</th>\n",
       "      <th>NH3</th>\n",
       "      <th>CO</th>\n",
       "      <th>SO2</th>\n",
       "      <th>O3</th>\n",
       "      <th>Benzene</th>\n",
       "      <th>...</th>\n",
       "      <th>City_Jorapokhar</th>\n",
       "      <th>City_Kochi</th>\n",
       "      <th>City_Kolkata</th>\n",
       "      <th>City_Lucknow</th>\n",
       "      <th>City_Mumbai</th>\n",
       "      <th>City_Patna</th>\n",
       "      <th>City_Shillong</th>\n",
       "      <th>City_Talcher</th>\n",
       "      <th>City_Thiruvananthapuram</th>\n",
       "      <th>City_Visakhapatnam</th>\n",
       "    </tr>\n",
       "  </thead>\n",
       "  <tbody>\n",
       "    <tr>\n",
       "      <th>PM2.5</th>\n",
       "      <td>1.000000</td>\n",
       "      <td>0.605138</td>\n",
       "      <td>0.466254</td>\n",
       "      <td>0.446857</td>\n",
       "      <td>0.429158</td>\n",
       "      <td>0.267625</td>\n",
       "      <td>0.346863</td>\n",
       "      <td>0.232486</td>\n",
       "      <td>0.210442</td>\n",
       "      <td>0.223268</td>\n",
       "      <td>...</td>\n",
       "      <td>-0.031346</td>\n",
       "      <td>-0.055212</td>\n",
       "      <td>0.008847</td>\n",
       "      <td>0.222346</td>\n",
       "      <td>-0.112540</td>\n",
       "      <td>0.193358</td>\n",
       "      <td>-0.064204</td>\n",
       "      <td>-0.007456</td>\n",
       "      <td>-0.159944</td>\n",
       "      <td>-0.077489</td>\n",
       "    </tr>\n",
       "    <tr>\n",
       "      <th>PM10</th>\n",
       "      <td>0.605138</td>\n",
       "      <td>1.000000</td>\n",
       "      <td>0.455531</td>\n",
       "      <td>0.413608</td>\n",
       "      <td>0.458349</td>\n",
       "      <td>0.288301</td>\n",
       "      <td>0.215070</td>\n",
       "      <td>0.287058</td>\n",
       "      <td>0.211402</td>\n",
       "      <td>0.257003</td>\n",
       "      <td>...</td>\n",
       "      <td>0.073988</td>\n",
       "      <td>-0.054479</td>\n",
       "      <td>0.021182</td>\n",
       "      <td>-0.049516</td>\n",
       "      <td>-0.054057</td>\n",
       "      <td>-0.035327</td>\n",
       "      <td>-0.084489</td>\n",
       "      <td>0.106753</td>\n",
       "      <td>-0.189591</td>\n",
       "      <td>-0.018901</td>\n",
       "    </tr>\n",
       "    <tr>\n",
       "      <th>NO</th>\n",
       "      <td>0.466254</td>\n",
       "      <td>0.455531</td>\n",
       "      <td>1.000000</td>\n",
       "      <td>0.525354</td>\n",
       "      <td>0.770391</td>\n",
       "      <td>0.235282</td>\n",
       "      <td>0.348759</td>\n",
       "      <td>0.318506</td>\n",
       "      <td>-0.012181</td>\n",
       "      <td>0.302840</td>\n",
       "      <td>...</td>\n",
       "      <td>-0.060754</td>\n",
       "      <td>0.152181</td>\n",
       "      <td>0.052322</td>\n",
       "      <td>-0.010336</td>\n",
       "      <td>0.052130</td>\n",
       "      <td>0.185767</td>\n",
       "      <td>-0.089136</td>\n",
       "      <td>0.105586</td>\n",
       "      <td>-0.181086</td>\n",
       "      <td>-0.042937</td>\n",
       "    </tr>\n",
       "    <tr>\n",
       "      <th>NO2</th>\n",
       "      <td>0.446857</td>\n",
       "      <td>0.413608</td>\n",
       "      <td>0.525354</td>\n",
       "      <td>1.000000</td>\n",
       "      <td>0.612252</td>\n",
       "      <td>0.295868</td>\n",
       "      <td>0.286662</td>\n",
       "      <td>0.322852</td>\n",
       "      <td>0.320246</td>\n",
       "      <td>0.387424</td>\n",
       "      <td>...</td>\n",
       "      <td>-0.162851</td>\n",
       "      <td>-0.047858</td>\n",
       "      <td>0.109488</td>\n",
       "      <td>0.092888</td>\n",
       "      <td>-0.053078</td>\n",
       "      <td>0.087467</td>\n",
       "      <td>-0.099211</td>\n",
       "      <td>-0.110077</td>\n",
       "      <td>-0.186241</td>\n",
       "      <td>0.093281</td>\n",
       "    </tr>\n",
       "    <tr>\n",
       "      <th>NOx</th>\n",
       "      <td>0.429158</td>\n",
       "      <td>0.458349</td>\n",
       "      <td>0.770391</td>\n",
       "      <td>0.612252</td>\n",
       "      <td>1.000000</td>\n",
       "      <td>0.222769</td>\n",
       "      <td>0.313099</td>\n",
       "      <td>0.273477</td>\n",
       "      <td>0.077702</td>\n",
       "      <td>0.332794</td>\n",
       "      <td>...</td>\n",
       "      <td>-0.050152</td>\n",
       "      <td>0.109556</td>\n",
       "      <td>0.160597</td>\n",
       "      <td>-0.081395</td>\n",
       "      <td>0.160582</td>\n",
       "      <td>0.116436</td>\n",
       "      <td>-0.109987</td>\n",
       "      <td>-0.000289</td>\n",
       "      <td>-0.194118</td>\n",
       "      <td>-0.043491</td>\n",
       "    </tr>\n",
       "    <tr>\n",
       "      <th>NH3</th>\n",
       "      <td>0.267625</td>\n",
       "      <td>0.288301</td>\n",
       "      <td>0.235282</td>\n",
       "      <td>0.295868</td>\n",
       "      <td>0.222769</td>\n",
       "      <td>1.000000</td>\n",
       "      <td>0.119679</td>\n",
       "      <td>-0.002743</td>\n",
       "      <td>0.112357</td>\n",
       "      <td>0.126667</td>\n",
       "      <td>...</td>\n",
       "      <td>-0.147150</td>\n",
       "      <td>-0.059640</td>\n",
       "      <td>-0.008573</td>\n",
       "      <td>0.061173</td>\n",
       "      <td>-0.080224</td>\n",
       "      <td>-0.063876</td>\n",
       "      <td>-0.093761</td>\n",
       "      <td>-0.093145</td>\n",
       "      <td>-0.197194</td>\n",
       "      <td>-0.134572</td>\n",
       "    </tr>\n",
       "    <tr>\n",
       "      <th>CO</th>\n",
       "      <td>0.346863</td>\n",
       "      <td>0.215070</td>\n",
       "      <td>0.348759</td>\n",
       "      <td>0.286662</td>\n",
       "      <td>0.313099</td>\n",
       "      <td>0.119679</td>\n",
       "      <td>1.000000</td>\n",
       "      <td>0.334065</td>\n",
       "      <td>0.061687</td>\n",
       "      <td>0.232976</td>\n",
       "      <td>...</td>\n",
       "      <td>-0.081181</td>\n",
       "      <td>0.020209</td>\n",
       "      <td>-0.050702</td>\n",
       "      <td>0.163479</td>\n",
       "      <td>-0.176382</td>\n",
       "      <td>0.118490</td>\n",
       "      <td>-0.086666</td>\n",
       "      <td>0.130552</td>\n",
       "      <td>-0.036117</td>\n",
       "      <td>-0.098953</td>\n",
       "    </tr>\n",
       "    <tr>\n",
       "      <th>SO2</th>\n",
       "      <td>0.232486</td>\n",
       "      <td>0.287058</td>\n",
       "      <td>0.318506</td>\n",
       "      <td>0.322852</td>\n",
       "      <td>0.273477</td>\n",
       "      <td>-0.002743</td>\n",
       "      <td>0.334065</td>\n",
       "      <td>1.000000</td>\n",
       "      <td>0.211909</td>\n",
       "      <td>0.203142</td>\n",
       "      <td>...</td>\n",
       "      <td>0.159816</td>\n",
       "      <td>0.056953</td>\n",
       "      <td>-0.062263</td>\n",
       "      <td>-0.107195</td>\n",
       "      <td>-0.007577</td>\n",
       "      <td>0.152694</td>\n",
       "      <td>-0.057766</td>\n",
       "      <td>0.200678</td>\n",
       "      <td>-0.147395</td>\n",
       "      <td>0.008857</td>\n",
       "    </tr>\n",
       "    <tr>\n",
       "      <th>O3</th>\n",
       "      <td>0.210442</td>\n",
       "      <td>0.211402</td>\n",
       "      <td>-0.012181</td>\n",
       "      <td>0.320246</td>\n",
       "      <td>0.077702</td>\n",
       "      <td>0.112357</td>\n",
       "      <td>0.061687</td>\n",
       "      <td>0.211909</td>\n",
       "      <td>1.000000</td>\n",
       "      <td>0.119594</td>\n",
       "      <td>...</td>\n",
       "      <td>-0.025725</td>\n",
       "      <td>-0.121633</td>\n",
       "      <td>-0.024752</td>\n",
       "      <td>0.039723</td>\n",
       "      <td>-0.028621</td>\n",
       "      <td>0.026055</td>\n",
       "      <td>-0.009067</td>\n",
       "      <td>-0.146792</td>\n",
       "      <td>0.011097</td>\n",
       "      <td>0.020832</td>\n",
       "    </tr>\n",
       "    <tr>\n",
       "      <th>Benzene</th>\n",
       "      <td>0.223268</td>\n",
       "      <td>0.257003</td>\n",
       "      <td>0.302840</td>\n",
       "      <td>0.387424</td>\n",
       "      <td>0.332794</td>\n",
       "      <td>0.126667</td>\n",
       "      <td>0.232976</td>\n",
       "      <td>0.203142</td>\n",
       "      <td>0.119594</td>\n",
       "      <td>1.000000</td>\n",
       "      <td>...</td>\n",
       "      <td>-0.071673</td>\n",
       "      <td>-0.026202</td>\n",
       "      <td>0.275053</td>\n",
       "      <td>-0.027710</td>\n",
       "      <td>-0.104059</td>\n",
       "      <td>-0.051179</td>\n",
       "      <td>-0.026469</td>\n",
       "      <td>-0.124798</td>\n",
       "      <td>-0.069830</td>\n",
       "      <td>0.204916</td>\n",
       "    </tr>\n",
       "    <tr>\n",
       "      <th>Toluene</th>\n",
       "      <td>0.258272</td>\n",
       "      <td>0.248388</td>\n",
       "      <td>0.276108</td>\n",
       "      <td>0.483182</td>\n",
       "      <td>0.322686</td>\n",
       "      <td>0.124061</td>\n",
       "      <td>0.334052</td>\n",
       "      <td>0.361324</td>\n",
       "      <td>0.224745</td>\n",
       "      <td>0.638462</td>\n",
       "      <td>...</td>\n",
       "      <td>-0.076166</td>\n",
       "      <td>-0.063776</td>\n",
       "      <td>0.174390</td>\n",
       "      <td>-0.063479</td>\n",
       "      <td>-0.167362</td>\n",
       "      <td>0.062546</td>\n",
       "      <td>-0.031483</td>\n",
       "      <td>-0.081367</td>\n",
       "      <td>-0.074208</td>\n",
       "      <td>0.094171</td>\n",
       "    </tr>\n",
       "    <tr>\n",
       "      <th>Xylene</th>\n",
       "      <td>0.124562</td>\n",
       "      <td>0.059696</td>\n",
       "      <td>0.174716</td>\n",
       "      <td>0.271346</td>\n",
       "      <td>0.163079</td>\n",
       "      <td>-0.057557</td>\n",
       "      <td>0.187258</td>\n",
       "      <td>0.283040</td>\n",
       "      <td>0.109541</td>\n",
       "      <td>0.502451</td>\n",
       "      <td>...</td>\n",
       "      <td>-0.056544</td>\n",
       "      <td>-0.020671</td>\n",
       "      <td>0.031616</td>\n",
       "      <td>-0.074055</td>\n",
       "      <td>-0.150635</td>\n",
       "      <td>0.204115</td>\n",
       "      <td>-0.025667</td>\n",
       "      <td>-0.048342</td>\n",
       "      <td>-0.055090</td>\n",
       "      <td>0.144396</td>\n",
       "    </tr>\n",
       "    <tr>\n",
       "      <th>AQI</th>\n",
       "      <td>0.821425</td>\n",
       "      <td>0.571850</td>\n",
       "      <td>0.503763</td>\n",
       "      <td>0.507014</td>\n",
       "      <td>0.477111</td>\n",
       "      <td>0.213825</td>\n",
       "      <td>0.540213</td>\n",
       "      <td>0.387777</td>\n",
       "      <td>0.221347</td>\n",
       "      <td>0.287363</td>\n",
       "      <td>...</td>\n",
       "      <td>-0.020802</td>\n",
       "      <td>-0.038636</td>\n",
       "      <td>-0.014740</td>\n",
       "      <td>0.161111</td>\n",
       "      <td>-0.111969</td>\n",
       "      <td>0.152085</td>\n",
       "      <td>-0.064857</td>\n",
       "      <td>0.014986</td>\n",
       "      <td>-0.157041</td>\n",
       "      <td>-0.087335</td>\n",
       "    </tr>\n",
       "    <tr>\n",
       "      <th>Year</th>\n",
       "      <td>-0.159689</td>\n",
       "      <td>-0.051883</td>\n",
       "      <td>0.041673</td>\n",
       "      <td>-0.039659</td>\n",
       "      <td>0.034850</td>\n",
       "      <td>-0.103859</td>\n",
       "      <td>-0.126237</td>\n",
       "      <td>0.127299</td>\n",
       "      <td>0.003667</td>\n",
       "      <td>0.075596</td>\n",
       "      <td>...</td>\n",
       "      <td>0.080593</td>\n",
       "      <td>0.109090</td>\n",
       "      <td>0.108006</td>\n",
       "      <td>-0.112637</td>\n",
       "      <td>-0.098977</td>\n",
       "      <td>-0.062680</td>\n",
       "      <td>0.103813</td>\n",
       "      <td>0.102162</td>\n",
       "      <td>0.088121</td>\n",
       "      <td>0.027966</td>\n",
       "    </tr>\n",
       "    <tr>\n",
       "      <th>Day</th>\n",
       "      <td>-0.007077</td>\n",
       "      <td>-0.016319</td>\n",
       "      <td>-0.007181</td>\n",
       "      <td>-0.005538</td>\n",
       "      <td>-0.008827</td>\n",
       "      <td>-0.000859</td>\n",
       "      <td>-0.009315</td>\n",
       "      <td>-0.000199</td>\n",
       "      <td>-0.000966</td>\n",
       "      <td>-0.002865</td>\n",
       "      <td>...</td>\n",
       "      <td>0.001136</td>\n",
       "      <td>0.003705</td>\n",
       "      <td>0.001459</td>\n",
       "      <td>-0.001400</td>\n",
       "      <td>-0.001386</td>\n",
       "      <td>-0.001101</td>\n",
       "      <td>0.001531</td>\n",
       "      <td>0.001356</td>\n",
       "      <td>0.001314</td>\n",
       "      <td>-0.001070</td>\n",
       "    </tr>\n",
       "    <tr>\n",
       "      <th>City_Ahmedabad</th>\n",
       "      <td>0.005102</td>\n",
       "      <td>-0.035703</td>\n",
       "      <td>0.053190</td>\n",
       "      <td>0.181907</td>\n",
       "      <td>0.106832</td>\n",
       "      <td>-0.070646</td>\n",
       "      <td>0.371631</td>\n",
       "      <td>0.305067</td>\n",
       "      <td>0.036604</td>\n",
       "      <td>0.151709</td>\n",
       "      <td>...</td>\n",
       "      <td>-0.057009</td>\n",
       "      <td>-0.020841</td>\n",
       "      <td>-0.045410</td>\n",
       "      <td>-0.074664</td>\n",
       "      <td>-0.075912</td>\n",
       "      <td>-0.072796</td>\n",
       "      <td>-0.025878</td>\n",
       "      <td>-0.048739</td>\n",
       "      <td>-0.055543</td>\n",
       "      <td>-0.064099</td>\n",
       "    </tr>\n",
       "    <tr>\n",
       "      <th>City_Aizawl</th>\n",
       "      <td>-0.034022</td>\n",
       "      <td>-0.053030</td>\n",
       "      <td>-0.028077</td>\n",
       "      <td>-0.060704</td>\n",
       "      <td>-0.040371</td>\n",
       "      <td>0.010859</td>\n",
       "      <td>-0.038564</td>\n",
       "      <td>-0.027667</td>\n",
       "      <td>-0.061290</td>\n",
       "      <td>0.010257</td>\n",
       "      <td>...</td>\n",
       "      <td>-0.008850</td>\n",
       "      <td>-0.003236</td>\n",
       "      <td>-0.007050</td>\n",
       "      <td>-0.011591</td>\n",
       "      <td>-0.011785</td>\n",
       "      <td>-0.011301</td>\n",
       "      <td>-0.004018</td>\n",
       "      <td>-0.007567</td>\n",
       "      <td>-0.008623</td>\n",
       "      <td>-0.009951</td>\n",
       "    </tr>\n",
       "    <tr>\n",
       "      <th>City_Amaravati</th>\n",
       "      <td>-0.102788</td>\n",
       "      <td>-0.101110</td>\n",
       "      <td>-0.149368</td>\n",
       "      <td>-0.053288</td>\n",
       "      <td>-0.114784</td>\n",
       "      <td>-0.100818</td>\n",
       "      <td>-0.098776</td>\n",
       "      <td>0.049520</td>\n",
       "      <td>0.034168</td>\n",
       "      <td>-0.127991</td>\n",
       "      <td>...</td>\n",
       "      <td>-0.038462</td>\n",
       "      <td>-0.014061</td>\n",
       "      <td>-0.030636</td>\n",
       "      <td>-0.050373</td>\n",
       "      <td>-0.051215</td>\n",
       "      <td>-0.049113</td>\n",
       "      <td>-0.017459</td>\n",
       "      <td>-0.032883</td>\n",
       "      <td>-0.037473</td>\n",
       "      <td>-0.043245</td>\n",
       "    </tr>\n",
       "    <tr>\n",
       "      <th>City_Amritsar</th>\n",
       "      <td>-0.035986</td>\n",
       "      <td>0.015159</td>\n",
       "      <td>0.042858</td>\n",
       "      <td>-0.093603</td>\n",
       "      <td>0.026314</td>\n",
       "      <td>-0.081282</td>\n",
       "      <td>-0.132819</td>\n",
       "      <td>-0.092340</td>\n",
       "      <td>-0.119081</td>\n",
       "      <td>0.146636</td>\n",
       "      <td>...</td>\n",
       "      <td>-0.042641</td>\n",
       "      <td>-0.015589</td>\n",
       "      <td>-0.033965</td>\n",
       "      <td>-0.055846</td>\n",
       "      <td>-0.056779</td>\n",
       "      <td>-0.054449</td>\n",
       "      <td>-0.019356</td>\n",
       "      <td>-0.036455</td>\n",
       "      <td>-0.041545</td>\n",
       "      <td>-0.047944</td>\n",
       "    </tr>\n",
       "    <tr>\n",
       "      <th>City_Bengaluru</th>\n",
       "      <td>-0.165190</td>\n",
       "      <td>-0.110678</td>\n",
       "      <td>-0.116158</td>\n",
       "      <td>0.013493</td>\n",
       "      <td>-0.121244</td>\n",
       "      <td>0.027099</td>\n",
       "      <td>0.010306</td>\n",
       "      <td>-0.211647</td>\n",
       "      <td>-0.013936</td>\n",
       "      <td>-0.052861</td>\n",
       "      <td>...</td>\n",
       "      <td>-0.057009</td>\n",
       "      <td>-0.020841</td>\n",
       "      <td>-0.045410</td>\n",
       "      <td>-0.074664</td>\n",
       "      <td>-0.075912</td>\n",
       "      <td>-0.072796</td>\n",
       "      <td>-0.025878</td>\n",
       "      <td>-0.048739</td>\n",
       "      <td>-0.055543</td>\n",
       "      <td>-0.064099</td>\n",
       "    </tr>\n",
       "    <tr>\n",
       "      <th>City_Bhopal</th>\n",
       "      <td>-0.005363</td>\n",
       "      <td>0.035958</td>\n",
       "      <td>-0.042815</td>\n",
       "      <td>0.047818</td>\n",
       "      <td>-0.009636</td>\n",
       "      <td>0.003882</td>\n",
       "      <td>-0.009800</td>\n",
       "      <td>0.016562</td>\n",
       "      <td>0.117171</td>\n",
       "      <td>-0.031121</td>\n",
       "      <td>...</td>\n",
       "      <td>-0.018590</td>\n",
       "      <td>-0.006796</td>\n",
       "      <td>-0.014808</td>\n",
       "      <td>-0.024347</td>\n",
       "      <td>-0.024754</td>\n",
       "      <td>-0.023738</td>\n",
       "      <td>-0.008439</td>\n",
       "      <td>-0.015893</td>\n",
       "      <td>-0.018112</td>\n",
       "      <td>-0.020902</td>\n",
       "    </tr>\n",
       "    <tr>\n",
       "      <th>City_Brajrajnagar</th>\n",
       "      <td>0.002095</td>\n",
       "      <td>0.026845</td>\n",
       "      <td>-0.021976</td>\n",
       "      <td>-0.087486</td>\n",
       "      <td>-0.047336</td>\n",
       "      <td>0.130242</td>\n",
       "      <td>0.110729</td>\n",
       "      <td>-0.041338</td>\n",
       "      <td>-0.147759</td>\n",
       "      <td>-0.059874</td>\n",
       "      <td>...</td>\n",
       "      <td>-0.036885</td>\n",
       "      <td>-0.013485</td>\n",
       "      <td>-0.029381</td>\n",
       "      <td>-0.048309</td>\n",
       "      <td>-0.049116</td>\n",
       "      <td>-0.047100</td>\n",
       "      <td>-0.016744</td>\n",
       "      <td>-0.031535</td>\n",
       "      <td>-0.035937</td>\n",
       "      <td>-0.041473</td>\n",
       "    </tr>\n",
       "    <tr>\n",
       "      <th>City_Chandigarh</th>\n",
       "      <td>-0.049610</td>\n",
       "      <td>-0.042326</td>\n",
       "      <td>-0.034893</td>\n",
       "      <td>-0.084748</td>\n",
       "      <td>-0.067355</td>\n",
       "      <td>0.074250</td>\n",
       "      <td>-0.058416</td>\n",
       "      <td>-0.018546</td>\n",
       "      <td>-0.075803</td>\n",
       "      <td>0.135484</td>\n",
       "      <td>...</td>\n",
       "      <td>-0.021495</td>\n",
       "      <td>-0.007858</td>\n",
       "      <td>-0.017121</td>\n",
       "      <td>-0.028152</td>\n",
       "      <td>-0.028622</td>\n",
       "      <td>-0.027447</td>\n",
       "      <td>-0.009757</td>\n",
       "      <td>-0.018377</td>\n",
       "      <td>-0.020942</td>\n",
       "      <td>-0.024168</td>\n",
       "    </tr>\n",
       "    <tr>\n",
       "      <th>City_Chennai</th>\n",
       "      <td>-0.066900</td>\n",
       "      <td>-0.072755</td>\n",
       "      <td>-0.115975</td>\n",
       "      <td>-0.142865</td>\n",
       "      <td>-0.142518</td>\n",
       "      <td>0.327396</td>\n",
       "      <td>-0.052022</td>\n",
       "      <td>-0.123483</td>\n",
       "      <td>-0.026183</td>\n",
       "      <td>-0.110130</td>\n",
       "      <td>...</td>\n",
       "      <td>-0.056072</td>\n",
       "      <td>-0.020499</td>\n",
       "      <td>-0.044663</td>\n",
       "      <td>-0.073437</td>\n",
       "      <td>-0.074664</td>\n",
       "      <td>-0.071600</td>\n",
       "      <td>-0.025453</td>\n",
       "      <td>-0.047938</td>\n",
       "      <td>-0.054631</td>\n",
       "      <td>-0.063045</td>\n",
       "    </tr>\n",
       "    <tr>\n",
       "      <th>City_Delhi</th>\n",
       "      <td>0.263200</td>\n",
       "      <td>0.432979</td>\n",
       "      <td>0.311952</td>\n",
       "      <td>0.319719</td>\n",
       "      <td>0.284743</td>\n",
       "      <td>0.406303</td>\n",
       "      <td>0.114801</td>\n",
       "      <td>0.120991</td>\n",
       "      <td>0.216274</td>\n",
       "      <td>0.201501</td>\n",
       "      <td>...</td>\n",
       "      <td>-0.057009</td>\n",
       "      <td>-0.020841</td>\n",
       "      <td>-0.045410</td>\n",
       "      <td>-0.074664</td>\n",
       "      <td>-0.075912</td>\n",
       "      <td>-0.072796</td>\n",
       "      <td>-0.025878</td>\n",
       "      <td>-0.048739</td>\n",
       "      <td>-0.055543</td>\n",
       "      <td>-0.064099</td>\n",
       "    </tr>\n",
       "    <tr>\n",
       "      <th>City_Ernakulam</th>\n",
       "      <td>-0.066232</td>\n",
       "      <td>-0.077405</td>\n",
       "      <td>0.005726</td>\n",
       "      <td>-0.068939</td>\n",
       "      <td>-0.024745</td>\n",
       "      <td>-0.007023</td>\n",
       "      <td>0.049759</td>\n",
       "      <td>-0.078179</td>\n",
       "      <td>-0.011031</td>\n",
       "      <td>-0.044104</td>\n",
       "      <td>...</td>\n",
       "      <td>-0.015652</td>\n",
       "      <td>-0.005722</td>\n",
       "      <td>-0.012467</td>\n",
       "      <td>-0.020499</td>\n",
       "      <td>-0.020841</td>\n",
       "      <td>-0.019986</td>\n",
       "      <td>-0.007105</td>\n",
       "      <td>-0.013381</td>\n",
       "      <td>-0.015249</td>\n",
       "      <td>-0.017598</td>\n",
       "    </tr>\n",
       "    <tr>\n",
       "      <th>City_Gurugram</th>\n",
       "      <td>0.197513</td>\n",
       "      <td>0.105762</td>\n",
       "      <td>-0.003953</td>\n",
       "      <td>-0.061170</td>\n",
       "      <td>-0.029662</td>\n",
       "      <td>-0.052028</td>\n",
       "      <td>-0.041756</td>\n",
       "      <td>-0.079980</td>\n",
       "      <td>0.005487</td>\n",
       "      <td>-0.054307</td>\n",
       "      <td>...</td>\n",
       "      <td>-0.051795</td>\n",
       "      <td>-0.018935</td>\n",
       "      <td>-0.041256</td>\n",
       "      <td>-0.067836</td>\n",
       "      <td>-0.068969</td>\n",
       "      <td>-0.066138</td>\n",
       "      <td>-0.023512</td>\n",
       "      <td>-0.044281</td>\n",
       "      <td>-0.050463</td>\n",
       "      <td>-0.058236</td>\n",
       "    </tr>\n",
       "    <tr>\n",
       "      <th>City_Guwahati</th>\n",
       "      <td>0.000892</td>\n",
       "      <td>0.003559</td>\n",
       "      <td>0.030547</td>\n",
       "      <td>-0.096094</td>\n",
       "      <td>0.056209</td>\n",
       "      <td>-0.084495</td>\n",
       "      <td>-0.058203</td>\n",
       "      <td>0.050666</td>\n",
       "      <td>-0.061250</td>\n",
       "      <td>-0.021203</td>\n",
       "      <td>...</td>\n",
       "      <td>-0.027719</td>\n",
       "      <td>-0.010134</td>\n",
       "      <td>-0.022079</td>\n",
       "      <td>-0.036304</td>\n",
       "      <td>-0.036910</td>\n",
       "      <td>-0.035395</td>\n",
       "      <td>-0.012583</td>\n",
       "      <td>-0.023698</td>\n",
       "      <td>-0.027007</td>\n",
       "      <td>-0.031166</td>\n",
       "    </tr>\n",
       "    <tr>\n",
       "      <th>City_Hyderabad</th>\n",
       "      <td>-0.096919</td>\n",
       "      <td>-0.071806</td>\n",
       "      <td>-0.145729</td>\n",
       "      <td>0.020995</td>\n",
       "      <td>-0.120750</td>\n",
       "      <td>-0.068172</td>\n",
       "      <td>-0.168553</td>\n",
       "      <td>-0.089098</td>\n",
       "      <td>0.004333</td>\n",
       "      <td>-0.087686</td>\n",
       "      <td>...</td>\n",
       "      <td>-0.056025</td>\n",
       "      <td>-0.020482</td>\n",
       "      <td>-0.044626</td>\n",
       "      <td>-0.073377</td>\n",
       "      <td>-0.074603</td>\n",
       "      <td>-0.071540</td>\n",
       "      <td>-0.025432</td>\n",
       "      <td>-0.047899</td>\n",
       "      <td>-0.054586</td>\n",
       "      <td>-0.062993</td>\n",
       "    </tr>\n",
       "    <tr>\n",
       "      <th>City_Jaipur</th>\n",
       "      <td>-0.027819</td>\n",
       "      <td>0.047755</td>\n",
       "      <td>-0.000726</td>\n",
       "      <td>0.062673</td>\n",
       "      <td>0.084131</td>\n",
       "      <td>0.091865</td>\n",
       "      <td>-0.066416</td>\n",
       "      <td>-0.011927</td>\n",
       "      <td>0.122873</td>\n",
       "      <td>-0.025487</td>\n",
       "      <td>...</td>\n",
       "      <td>-0.040547</td>\n",
       "      <td>-0.014823</td>\n",
       "      <td>-0.032297</td>\n",
       "      <td>-0.053104</td>\n",
       "      <td>-0.053992</td>\n",
       "      <td>-0.051775</td>\n",
       "      <td>-0.018406</td>\n",
       "      <td>-0.034665</td>\n",
       "      <td>-0.039505</td>\n",
       "      <td>-0.045590</td>\n",
       "    </tr>\n",
       "    <tr>\n",
       "      <th>City_Jorapokhar</th>\n",
       "      <td>-0.031346</td>\n",
       "      <td>0.073988</td>\n",
       "      <td>-0.060754</td>\n",
       "      <td>-0.162851</td>\n",
       "      <td>-0.050152</td>\n",
       "      <td>-0.147150</td>\n",
       "      <td>-0.081181</td>\n",
       "      <td>0.159816</td>\n",
       "      <td>-0.025725</td>\n",
       "      <td>-0.071673</td>\n",
       "      <td>...</td>\n",
       "      <td>1.000000</td>\n",
       "      <td>-0.015652</td>\n",
       "      <td>-0.034102</td>\n",
       "      <td>-0.056072</td>\n",
       "      <td>-0.057009</td>\n",
       "      <td>-0.054669</td>\n",
       "      <td>-0.019434</td>\n",
       "      <td>-0.036602</td>\n",
       "      <td>-0.041712</td>\n",
       "      <td>-0.048137</td>\n",
       "    </tr>\n",
       "    <tr>\n",
       "      <th>City_Kochi</th>\n",
       "      <td>-0.055212</td>\n",
       "      <td>-0.054479</td>\n",
       "      <td>0.152181</td>\n",
       "      <td>-0.047858</td>\n",
       "      <td>0.109556</td>\n",
       "      <td>-0.059640</td>\n",
       "      <td>0.020209</td>\n",
       "      <td>0.056953</td>\n",
       "      <td>-0.121633</td>\n",
       "      <td>-0.026202</td>\n",
       "      <td>...</td>\n",
       "      <td>-0.015652</td>\n",
       "      <td>1.000000</td>\n",
       "      <td>-0.012467</td>\n",
       "      <td>-0.020499</td>\n",
       "      <td>-0.020841</td>\n",
       "      <td>-0.019986</td>\n",
       "      <td>-0.007105</td>\n",
       "      <td>-0.013381</td>\n",
       "      <td>-0.015249</td>\n",
       "      <td>-0.017598</td>\n",
       "    </tr>\n",
       "    <tr>\n",
       "      <th>City_Kolkata</th>\n",
       "      <td>0.008847</td>\n",
       "      <td>0.021182</td>\n",
       "      <td>0.052322</td>\n",
       "      <td>0.109488</td>\n",
       "      <td>0.160597</td>\n",
       "      <td>-0.008573</td>\n",
       "      <td>-0.050702</td>\n",
       "      <td>-0.062263</td>\n",
       "      <td>-0.024752</td>\n",
       "      <td>0.275053</td>\n",
       "      <td>...</td>\n",
       "      <td>-0.034102</td>\n",
       "      <td>-0.012467</td>\n",
       "      <td>1.000000</td>\n",
       "      <td>-0.044663</td>\n",
       "      <td>-0.045410</td>\n",
       "      <td>-0.043546</td>\n",
       "      <td>-0.015480</td>\n",
       "      <td>-0.029155</td>\n",
       "      <td>-0.033225</td>\n",
       "      <td>-0.038343</td>\n",
       "    </tr>\n",
       "    <tr>\n",
       "      <th>City_Lucknow</th>\n",
       "      <td>0.222346</td>\n",
       "      <td>-0.049516</td>\n",
       "      <td>-0.010336</td>\n",
       "      <td>0.092888</td>\n",
       "      <td>-0.081395</td>\n",
       "      <td>0.061173</td>\n",
       "      <td>0.163479</td>\n",
       "      <td>-0.107195</td>\n",
       "      <td>0.039723</td>\n",
       "      <td>-0.027710</td>\n",
       "      <td>...</td>\n",
       "      <td>-0.056072</td>\n",
       "      <td>-0.020499</td>\n",
       "      <td>-0.044663</td>\n",
       "      <td>1.000000</td>\n",
       "      <td>-0.074664</td>\n",
       "      <td>-0.071600</td>\n",
       "      <td>-0.025453</td>\n",
       "      <td>-0.047938</td>\n",
       "      <td>-0.054631</td>\n",
       "      <td>-0.063045</td>\n",
       "    </tr>\n",
       "    <tr>\n",
       "      <th>City_Mumbai</th>\n",
       "      <td>-0.112540</td>\n",
       "      <td>-0.054057</td>\n",
       "      <td>0.052130</td>\n",
       "      <td>-0.053078</td>\n",
       "      <td>0.160582</td>\n",
       "      <td>-0.080224</td>\n",
       "      <td>-0.176382</td>\n",
       "      <td>-0.007577</td>\n",
       "      <td>-0.028621</td>\n",
       "      <td>-0.104059</td>\n",
       "      <td>...</td>\n",
       "      <td>-0.057009</td>\n",
       "      <td>-0.020841</td>\n",
       "      <td>-0.045410</td>\n",
       "      <td>-0.074664</td>\n",
       "      <td>1.000000</td>\n",
       "      <td>-0.072796</td>\n",
       "      <td>-0.025878</td>\n",
       "      <td>-0.048739</td>\n",
       "      <td>-0.055543</td>\n",
       "      <td>-0.064099</td>\n",
       "    </tr>\n",
       "    <tr>\n",
       "      <th>City_Patna</th>\n",
       "      <td>0.193358</td>\n",
       "      <td>-0.035327</td>\n",
       "      <td>0.185767</td>\n",
       "      <td>0.087467</td>\n",
       "      <td>0.116436</td>\n",
       "      <td>-0.063876</td>\n",
       "      <td>0.118490</td>\n",
       "      <td>0.152694</td>\n",
       "      <td>0.026055</td>\n",
       "      <td>-0.051179</td>\n",
       "      <td>...</td>\n",
       "      <td>-0.054669</td>\n",
       "      <td>-0.019986</td>\n",
       "      <td>-0.043546</td>\n",
       "      <td>-0.071600</td>\n",
       "      <td>-0.072796</td>\n",
       "      <td>1.000000</td>\n",
       "      <td>-0.024816</td>\n",
       "      <td>-0.046739</td>\n",
       "      <td>-0.053264</td>\n",
       "      <td>-0.061468</td>\n",
       "    </tr>\n",
       "    <tr>\n",
       "      <th>City_Shillong</th>\n",
       "      <td>-0.064204</td>\n",
       "      <td>-0.084489</td>\n",
       "      <td>-0.089136</td>\n",
       "      <td>-0.099211</td>\n",
       "      <td>-0.109987</td>\n",
       "      <td>-0.093761</td>\n",
       "      <td>-0.086666</td>\n",
       "      <td>-0.057766</td>\n",
       "      <td>-0.009067</td>\n",
       "      <td>-0.026469</td>\n",
       "      <td>...</td>\n",
       "      <td>-0.019434</td>\n",
       "      <td>-0.007105</td>\n",
       "      <td>-0.015480</td>\n",
       "      <td>-0.025453</td>\n",
       "      <td>-0.025878</td>\n",
       "      <td>-0.024816</td>\n",
       "      <td>1.000000</td>\n",
       "      <td>-0.016615</td>\n",
       "      <td>-0.018935</td>\n",
       "      <td>-0.021851</td>\n",
       "    </tr>\n",
       "    <tr>\n",
       "      <th>City_Talcher</th>\n",
       "      <td>-0.007456</td>\n",
       "      <td>0.106753</td>\n",
       "      <td>0.105586</td>\n",
       "      <td>-0.110077</td>\n",
       "      <td>-0.000289</td>\n",
       "      <td>-0.093145</td>\n",
       "      <td>0.130552</td>\n",
       "      <td>0.200678</td>\n",
       "      <td>-0.146792</td>\n",
       "      <td>-0.124798</td>\n",
       "      <td>...</td>\n",
       "      <td>-0.036602</td>\n",
       "      <td>-0.013381</td>\n",
       "      <td>-0.029155</td>\n",
       "      <td>-0.047938</td>\n",
       "      <td>-0.048739</td>\n",
       "      <td>-0.046739</td>\n",
       "      <td>-0.016615</td>\n",
       "      <td>1.000000</td>\n",
       "      <td>-0.035662</td>\n",
       "      <td>-0.041155</td>\n",
       "    </tr>\n",
       "    <tr>\n",
       "      <th>City_Thiruvananthapuram</th>\n",
       "      <td>-0.159944</td>\n",
       "      <td>-0.189591</td>\n",
       "      <td>-0.181086</td>\n",
       "      <td>-0.186241</td>\n",
       "      <td>-0.194118</td>\n",
       "      <td>-0.197194</td>\n",
       "      <td>-0.036117</td>\n",
       "      <td>-0.147395</td>\n",
       "      <td>0.011097</td>\n",
       "      <td>-0.069830</td>\n",
       "      <td>...</td>\n",
       "      <td>-0.041712</td>\n",
       "      <td>-0.015249</td>\n",
       "      <td>-0.033225</td>\n",
       "      <td>-0.054631</td>\n",
       "      <td>-0.055543</td>\n",
       "      <td>-0.053264</td>\n",
       "      <td>-0.018935</td>\n",
       "      <td>-0.035662</td>\n",
       "      <td>1.000000</td>\n",
       "      <td>-0.046900</td>\n",
       "    </tr>\n",
       "    <tr>\n",
       "      <th>City_Visakhapatnam</th>\n",
       "      <td>-0.077489</td>\n",
       "      <td>-0.018901</td>\n",
       "      <td>-0.042937</td>\n",
       "      <td>0.093281</td>\n",
       "      <td>-0.043491</td>\n",
       "      <td>-0.134572</td>\n",
       "      <td>-0.098953</td>\n",
       "      <td>0.008857</td>\n",
       "      <td>0.020832</td>\n",
       "      <td>0.204916</td>\n",
       "      <td>...</td>\n",
       "      <td>-0.048137</td>\n",
       "      <td>-0.017598</td>\n",
       "      <td>-0.038343</td>\n",
       "      <td>-0.063045</td>\n",
       "      <td>-0.064099</td>\n",
       "      <td>-0.061468</td>\n",
       "      <td>-0.021851</td>\n",
       "      <td>-0.041155</td>\n",
       "      <td>-0.046900</td>\n",
       "      <td>1.000000</td>\n",
       "    </tr>\n",
       "  </tbody>\n",
       "</table>\n",
       "<p>40 rows × 40 columns</p>\n",
       "</div>"
      ],
      "text/plain": [
       "                            PM2.5      PM10        NO       NO2       NOx  \\\n",
       "PM2.5                    1.000000  0.605138  0.466254  0.446857  0.429158   \n",
       "PM10                     0.605138  1.000000  0.455531  0.413608  0.458349   \n",
       "NO                       0.466254  0.455531  1.000000  0.525354  0.770391   \n",
       "NO2                      0.446857  0.413608  0.525354  1.000000  0.612252   \n",
       "NOx                      0.429158  0.458349  0.770391  0.612252  1.000000   \n",
       "NH3                      0.267625  0.288301  0.235282  0.295868  0.222769   \n",
       "CO                       0.346863  0.215070  0.348759  0.286662  0.313099   \n",
       "SO2                      0.232486  0.287058  0.318506  0.322852  0.273477   \n",
       "O3                       0.210442  0.211402 -0.012181  0.320246  0.077702   \n",
       "Benzene                  0.223268  0.257003  0.302840  0.387424  0.332794   \n",
       "Toluene                  0.258272  0.248388  0.276108  0.483182  0.322686   \n",
       "Xylene                   0.124562  0.059696  0.174716  0.271346  0.163079   \n",
       "AQI                      0.821425  0.571850  0.503763  0.507014  0.477111   \n",
       "Year                    -0.159689 -0.051883  0.041673 -0.039659  0.034850   \n",
       "Day                     -0.007077 -0.016319 -0.007181 -0.005538 -0.008827   \n",
       "City_Ahmedabad           0.005102 -0.035703  0.053190  0.181907  0.106832   \n",
       "City_Aizawl             -0.034022 -0.053030 -0.028077 -0.060704 -0.040371   \n",
       "City_Amaravati          -0.102788 -0.101110 -0.149368 -0.053288 -0.114784   \n",
       "City_Amritsar           -0.035986  0.015159  0.042858 -0.093603  0.026314   \n",
       "City_Bengaluru          -0.165190 -0.110678 -0.116158  0.013493 -0.121244   \n",
       "City_Bhopal             -0.005363  0.035958 -0.042815  0.047818 -0.009636   \n",
       "City_Brajrajnagar        0.002095  0.026845 -0.021976 -0.087486 -0.047336   \n",
       "City_Chandigarh         -0.049610 -0.042326 -0.034893 -0.084748 -0.067355   \n",
       "City_Chennai            -0.066900 -0.072755 -0.115975 -0.142865 -0.142518   \n",
       "City_Delhi               0.263200  0.432979  0.311952  0.319719  0.284743   \n",
       "City_Ernakulam          -0.066232 -0.077405  0.005726 -0.068939 -0.024745   \n",
       "City_Gurugram            0.197513  0.105762 -0.003953 -0.061170 -0.029662   \n",
       "City_Guwahati            0.000892  0.003559  0.030547 -0.096094  0.056209   \n",
       "City_Hyderabad          -0.096919 -0.071806 -0.145729  0.020995 -0.120750   \n",
       "City_Jaipur             -0.027819  0.047755 -0.000726  0.062673  0.084131   \n",
       "City_Jorapokhar         -0.031346  0.073988 -0.060754 -0.162851 -0.050152   \n",
       "City_Kochi              -0.055212 -0.054479  0.152181 -0.047858  0.109556   \n",
       "City_Kolkata             0.008847  0.021182  0.052322  0.109488  0.160597   \n",
       "City_Lucknow             0.222346 -0.049516 -0.010336  0.092888 -0.081395   \n",
       "City_Mumbai             -0.112540 -0.054057  0.052130 -0.053078  0.160582   \n",
       "City_Patna               0.193358 -0.035327  0.185767  0.087467  0.116436   \n",
       "City_Shillong           -0.064204 -0.084489 -0.089136 -0.099211 -0.109987   \n",
       "City_Talcher            -0.007456  0.106753  0.105586 -0.110077 -0.000289   \n",
       "City_Thiruvananthapuram -0.159944 -0.189591 -0.181086 -0.186241 -0.194118   \n",
       "City_Visakhapatnam      -0.077489 -0.018901 -0.042937  0.093281 -0.043491   \n",
       "\n",
       "                              NH3        CO       SO2        O3   Benzene  \\\n",
       "PM2.5                    0.267625  0.346863  0.232486  0.210442  0.223268   \n",
       "PM10                     0.288301  0.215070  0.287058  0.211402  0.257003   \n",
       "NO                       0.235282  0.348759  0.318506 -0.012181  0.302840   \n",
       "NO2                      0.295868  0.286662  0.322852  0.320246  0.387424   \n",
       "NOx                      0.222769  0.313099  0.273477  0.077702  0.332794   \n",
       "NH3                      1.000000  0.119679 -0.002743  0.112357  0.126667   \n",
       "CO                       0.119679  1.000000  0.334065  0.061687  0.232976   \n",
       "SO2                     -0.002743  0.334065  1.000000  0.211909  0.203142   \n",
       "O3                       0.112357  0.061687  0.211909  1.000000  0.119594   \n",
       "Benzene                  0.126667  0.232976  0.203142  0.119594  1.000000   \n",
       "Toluene                  0.124061  0.334052  0.361324  0.224745  0.638462   \n",
       "Xylene                  -0.057557  0.187258  0.283040  0.109541  0.502451   \n",
       "AQI                      0.213825  0.540213  0.387777  0.221347  0.287363   \n",
       "Year                    -0.103859 -0.126237  0.127299  0.003667  0.075596   \n",
       "Day                     -0.000859 -0.009315 -0.000199 -0.000966 -0.002865   \n",
       "City_Ahmedabad          -0.070646  0.371631  0.305067  0.036604  0.151709   \n",
       "City_Aizawl              0.010859 -0.038564 -0.027667 -0.061290  0.010257   \n",
       "City_Amaravati          -0.100818 -0.098776  0.049520  0.034168 -0.127991   \n",
       "City_Amritsar           -0.081282 -0.132819 -0.092340 -0.119081  0.146636   \n",
       "City_Bengaluru           0.027099  0.010306 -0.211647 -0.013936 -0.052861   \n",
       "City_Bhopal              0.003882 -0.009800  0.016562  0.117171 -0.031121   \n",
       "City_Brajrajnagar        0.130242  0.110729 -0.041338 -0.147759 -0.059874   \n",
       "City_Chandigarh          0.074250 -0.058416 -0.018546 -0.075803  0.135484   \n",
       "City_Chennai             0.327396 -0.052022 -0.123483 -0.026183 -0.110130   \n",
       "City_Delhi               0.406303  0.114801  0.120991  0.216274  0.201501   \n",
       "City_Ernakulam          -0.007023  0.049759 -0.078179 -0.011031 -0.044104   \n",
       "City_Gurugram           -0.052028 -0.041756 -0.079980  0.005487 -0.054307   \n",
       "City_Guwahati           -0.084495 -0.058203  0.050666 -0.061250 -0.021203   \n",
       "City_Hyderabad          -0.068172 -0.168553 -0.089098  0.004333 -0.087686   \n",
       "City_Jaipur              0.091865 -0.066416 -0.011927  0.122873 -0.025487   \n",
       "City_Jorapokhar         -0.147150 -0.081181  0.159816 -0.025725 -0.071673   \n",
       "City_Kochi              -0.059640  0.020209  0.056953 -0.121633 -0.026202   \n",
       "City_Kolkata            -0.008573 -0.050702 -0.062263 -0.024752  0.275053   \n",
       "City_Lucknow             0.061173  0.163479 -0.107195  0.039723 -0.027710   \n",
       "City_Mumbai             -0.080224 -0.176382 -0.007577 -0.028621 -0.104059   \n",
       "City_Patna              -0.063876  0.118490  0.152694  0.026055 -0.051179   \n",
       "City_Shillong           -0.093761 -0.086666 -0.057766 -0.009067 -0.026469   \n",
       "City_Talcher            -0.093145  0.130552  0.200678 -0.146792 -0.124798   \n",
       "City_Thiruvananthapuram -0.197194 -0.036117 -0.147395  0.011097 -0.069830   \n",
       "City_Visakhapatnam      -0.134572 -0.098953  0.008857  0.020832  0.204916   \n",
       "\n",
       "                         ...  City_Jorapokhar  City_Kochi  City_Kolkata  \\\n",
       "PM2.5                    ...        -0.031346   -0.055212      0.008847   \n",
       "PM10                     ...         0.073988   -0.054479      0.021182   \n",
       "NO                       ...        -0.060754    0.152181      0.052322   \n",
       "NO2                      ...        -0.162851   -0.047858      0.109488   \n",
       "NOx                      ...        -0.050152    0.109556      0.160597   \n",
       "NH3                      ...        -0.147150   -0.059640     -0.008573   \n",
       "CO                       ...        -0.081181    0.020209     -0.050702   \n",
       "SO2                      ...         0.159816    0.056953     -0.062263   \n",
       "O3                       ...        -0.025725   -0.121633     -0.024752   \n",
       "Benzene                  ...        -0.071673   -0.026202      0.275053   \n",
       "Toluene                  ...        -0.076166   -0.063776      0.174390   \n",
       "Xylene                   ...        -0.056544   -0.020671      0.031616   \n",
       "AQI                      ...        -0.020802   -0.038636     -0.014740   \n",
       "Year                     ...         0.080593    0.109090      0.108006   \n",
       "Day                      ...         0.001136    0.003705      0.001459   \n",
       "City_Ahmedabad           ...        -0.057009   -0.020841     -0.045410   \n",
       "City_Aizawl              ...        -0.008850   -0.003236     -0.007050   \n",
       "City_Amaravati           ...        -0.038462   -0.014061     -0.030636   \n",
       "City_Amritsar            ...        -0.042641   -0.015589     -0.033965   \n",
       "City_Bengaluru           ...        -0.057009   -0.020841     -0.045410   \n",
       "City_Bhopal              ...        -0.018590   -0.006796     -0.014808   \n",
       "City_Brajrajnagar        ...        -0.036885   -0.013485     -0.029381   \n",
       "City_Chandigarh          ...        -0.021495   -0.007858     -0.017121   \n",
       "City_Chennai             ...        -0.056072   -0.020499     -0.044663   \n",
       "City_Delhi               ...        -0.057009   -0.020841     -0.045410   \n",
       "City_Ernakulam           ...        -0.015652   -0.005722     -0.012467   \n",
       "City_Gurugram            ...        -0.051795   -0.018935     -0.041256   \n",
       "City_Guwahati            ...        -0.027719   -0.010134     -0.022079   \n",
       "City_Hyderabad           ...        -0.056025   -0.020482     -0.044626   \n",
       "City_Jaipur              ...        -0.040547   -0.014823     -0.032297   \n",
       "City_Jorapokhar          ...         1.000000   -0.015652     -0.034102   \n",
       "City_Kochi               ...        -0.015652    1.000000     -0.012467   \n",
       "City_Kolkata             ...        -0.034102   -0.012467      1.000000   \n",
       "City_Lucknow             ...        -0.056072   -0.020499     -0.044663   \n",
       "City_Mumbai              ...        -0.057009   -0.020841     -0.045410   \n",
       "City_Patna               ...        -0.054669   -0.019986     -0.043546   \n",
       "City_Shillong            ...        -0.019434   -0.007105     -0.015480   \n",
       "City_Talcher             ...        -0.036602   -0.013381     -0.029155   \n",
       "City_Thiruvananthapuram  ...        -0.041712   -0.015249     -0.033225   \n",
       "City_Visakhapatnam       ...        -0.048137   -0.017598     -0.038343   \n",
       "\n",
       "                         City_Lucknow  City_Mumbai  City_Patna  City_Shillong  \\\n",
       "PM2.5                        0.222346    -0.112540    0.193358      -0.064204   \n",
       "PM10                        -0.049516    -0.054057   -0.035327      -0.084489   \n",
       "NO                          -0.010336     0.052130    0.185767      -0.089136   \n",
       "NO2                          0.092888    -0.053078    0.087467      -0.099211   \n",
       "NOx                         -0.081395     0.160582    0.116436      -0.109987   \n",
       "NH3                          0.061173    -0.080224   -0.063876      -0.093761   \n",
       "CO                           0.163479    -0.176382    0.118490      -0.086666   \n",
       "SO2                         -0.107195    -0.007577    0.152694      -0.057766   \n",
       "O3                           0.039723    -0.028621    0.026055      -0.009067   \n",
       "Benzene                     -0.027710    -0.104059   -0.051179      -0.026469   \n",
       "Toluene                     -0.063479    -0.167362    0.062546      -0.031483   \n",
       "Xylene                      -0.074055    -0.150635    0.204115      -0.025667   \n",
       "AQI                          0.161111    -0.111969    0.152085      -0.064857   \n",
       "Year                        -0.112637    -0.098977   -0.062680       0.103813   \n",
       "Day                         -0.001400    -0.001386   -0.001101       0.001531   \n",
       "City_Ahmedabad              -0.074664    -0.075912   -0.072796      -0.025878   \n",
       "City_Aizawl                 -0.011591    -0.011785   -0.011301      -0.004018   \n",
       "City_Amaravati              -0.050373    -0.051215   -0.049113      -0.017459   \n",
       "City_Amritsar               -0.055846    -0.056779   -0.054449      -0.019356   \n",
       "City_Bengaluru              -0.074664    -0.075912   -0.072796      -0.025878   \n",
       "City_Bhopal                 -0.024347    -0.024754   -0.023738      -0.008439   \n",
       "City_Brajrajnagar           -0.048309    -0.049116   -0.047100      -0.016744   \n",
       "City_Chandigarh             -0.028152    -0.028622   -0.027447      -0.009757   \n",
       "City_Chennai                -0.073437    -0.074664   -0.071600      -0.025453   \n",
       "City_Delhi                  -0.074664    -0.075912   -0.072796      -0.025878   \n",
       "City_Ernakulam              -0.020499    -0.020841   -0.019986      -0.007105   \n",
       "City_Gurugram               -0.067836    -0.068969   -0.066138      -0.023512   \n",
       "City_Guwahati               -0.036304    -0.036910   -0.035395      -0.012583   \n",
       "City_Hyderabad              -0.073377    -0.074603   -0.071540      -0.025432   \n",
       "City_Jaipur                 -0.053104    -0.053992   -0.051775      -0.018406   \n",
       "City_Jorapokhar             -0.056072    -0.057009   -0.054669      -0.019434   \n",
       "City_Kochi                  -0.020499    -0.020841   -0.019986      -0.007105   \n",
       "City_Kolkata                -0.044663    -0.045410   -0.043546      -0.015480   \n",
       "City_Lucknow                 1.000000    -0.074664   -0.071600      -0.025453   \n",
       "City_Mumbai                 -0.074664     1.000000   -0.072796      -0.025878   \n",
       "City_Patna                  -0.071600    -0.072796    1.000000      -0.024816   \n",
       "City_Shillong               -0.025453    -0.025878   -0.024816       1.000000   \n",
       "City_Talcher                -0.047938    -0.048739   -0.046739      -0.016615   \n",
       "City_Thiruvananthapuram     -0.054631    -0.055543   -0.053264      -0.018935   \n",
       "City_Visakhapatnam          -0.063045    -0.064099   -0.061468      -0.021851   \n",
       "\n",
       "                         City_Talcher  City_Thiruvananthapuram  \\\n",
       "PM2.5                       -0.007456                -0.159944   \n",
       "PM10                         0.106753                -0.189591   \n",
       "NO                           0.105586                -0.181086   \n",
       "NO2                         -0.110077                -0.186241   \n",
       "NOx                         -0.000289                -0.194118   \n",
       "NH3                         -0.093145                -0.197194   \n",
       "CO                           0.130552                -0.036117   \n",
       "SO2                          0.200678                -0.147395   \n",
       "O3                          -0.146792                 0.011097   \n",
       "Benzene                     -0.124798                -0.069830   \n",
       "Toluene                     -0.081367                -0.074208   \n",
       "Xylene                      -0.048342                -0.055090   \n",
       "AQI                          0.014986                -0.157041   \n",
       "Year                         0.102162                 0.088121   \n",
       "Day                          0.001356                 0.001314   \n",
       "City_Ahmedabad              -0.048739                -0.055543   \n",
       "City_Aizawl                 -0.007567                -0.008623   \n",
       "City_Amaravati              -0.032883                -0.037473   \n",
       "City_Amritsar               -0.036455                -0.041545   \n",
       "City_Bengaluru              -0.048739                -0.055543   \n",
       "City_Bhopal                 -0.015893                -0.018112   \n",
       "City_Brajrajnagar           -0.031535                -0.035937   \n",
       "City_Chandigarh             -0.018377                -0.020942   \n",
       "City_Chennai                -0.047938                -0.054631   \n",
       "City_Delhi                  -0.048739                -0.055543   \n",
       "City_Ernakulam              -0.013381                -0.015249   \n",
       "City_Gurugram               -0.044281                -0.050463   \n",
       "City_Guwahati               -0.023698                -0.027007   \n",
       "City_Hyderabad              -0.047899                -0.054586   \n",
       "City_Jaipur                 -0.034665                -0.039505   \n",
       "City_Jorapokhar             -0.036602                -0.041712   \n",
       "City_Kochi                  -0.013381                -0.015249   \n",
       "City_Kolkata                -0.029155                -0.033225   \n",
       "City_Lucknow                -0.047938                -0.054631   \n",
       "City_Mumbai                 -0.048739                -0.055543   \n",
       "City_Patna                  -0.046739                -0.053264   \n",
       "City_Shillong               -0.016615                -0.018935   \n",
       "City_Talcher                 1.000000                -0.035662   \n",
       "City_Thiruvananthapuram     -0.035662                 1.000000   \n",
       "City_Visakhapatnam          -0.041155                -0.046900   \n",
       "\n",
       "                         City_Visakhapatnam  \n",
       "PM2.5                             -0.077489  \n",
       "PM10                              -0.018901  \n",
       "NO                                -0.042937  \n",
       "NO2                                0.093281  \n",
       "NOx                               -0.043491  \n",
       "NH3                               -0.134572  \n",
       "CO                                -0.098953  \n",
       "SO2                                0.008857  \n",
       "O3                                 0.020832  \n",
       "Benzene                            0.204916  \n",
       "Toluene                            0.094171  \n",
       "Xylene                             0.144396  \n",
       "AQI                               -0.087335  \n",
       "Year                               0.027966  \n",
       "Day                               -0.001070  \n",
       "City_Ahmedabad                    -0.064099  \n",
       "City_Aizawl                       -0.009951  \n",
       "City_Amaravati                    -0.043245  \n",
       "City_Amritsar                     -0.047944  \n",
       "City_Bengaluru                    -0.064099  \n",
       "City_Bhopal                       -0.020902  \n",
       "City_Brajrajnagar                 -0.041473  \n",
       "City_Chandigarh                   -0.024168  \n",
       "City_Chennai                      -0.063045  \n",
       "City_Delhi                        -0.064099  \n",
       "City_Ernakulam                    -0.017598  \n",
       "City_Gurugram                     -0.058236  \n",
       "City_Guwahati                     -0.031166  \n",
       "City_Hyderabad                    -0.062993  \n",
       "City_Jaipur                       -0.045590  \n",
       "City_Jorapokhar                   -0.048137  \n",
       "City_Kochi                        -0.017598  \n",
       "City_Kolkata                      -0.038343  \n",
       "City_Lucknow                      -0.063045  \n",
       "City_Mumbai                       -0.064099  \n",
       "City_Patna                        -0.061468  \n",
       "City_Shillong                     -0.021851  \n",
       "City_Talcher                      -0.041155  \n",
       "City_Thiruvananthapuram           -0.046900  \n",
       "City_Visakhapatnam                 1.000000  \n",
       "\n",
       "[40 rows x 40 columns]"
      ]
     },
     "execution_count": 33,
     "metadata": {},
     "output_type": "execute_result"
    }
   ],
   "source": [
    "df.corr()"
   ]
  },
  {
   "cell_type": "code",
   "execution_count": 34,
   "id": "7ff201ce",
   "metadata": {},
   "outputs": [],
   "source": [
    "x=df.drop(['AQI'],axis=1)\n",
    "y=df['AQI']"
   ]
  },
  {
   "cell_type": "code",
   "execution_count": 35,
   "id": "ddbf5eb6",
   "metadata": {},
   "outputs": [
    {
     "name": "stdout",
     "output_type": "stream",
     "text": [
      "(22779, 40)\n",
      "(22779,)\n"
     ]
    }
   ],
   "source": [
    "X_train,X_test,Y_train,Y_test=train_test_split(x,y,test_size=0.2,random_state=42)\n",
    "print(X_train.shape)\n",
    "print(Y_train.shape)"
   ]
  },
  {
   "cell_type": "markdown",
   "id": "c6f00075",
   "metadata": {},
   "source": [
    "## RANDOMFOREST"
   ]
  },
  {
   "cell_type": "code",
   "execution_count": 36,
   "id": "a8c17ee5",
   "metadata": {},
   "outputs": [],
   "source": [
    "clf=RandomForestRegressor()"
   ]
  },
  {
   "cell_type": "code",
   "execution_count": 37,
   "id": "a9013e96",
   "metadata": {},
   "outputs": [
    {
     "data": {
      "text/plain": [
       "RandomForestRegressor()"
      ]
     },
     "execution_count": 37,
     "metadata": {},
     "output_type": "execute_result"
    }
   ],
   "source": [
    "clf.fit(X_train,Y_train)"
   ]
  },
  {
   "cell_type": "code",
   "execution_count": null,
   "id": "3e6ef17a",
   "metadata": {},
   "outputs": [],
   "source": []
  },
  {
   "cell_type": "code",
   "execution_count": 38,
   "id": "cdf7d445",
   "metadata": {},
   "outputs": [],
   "source": [
    "score=clf.score(X_test,Y_test)"
   ]
  },
  {
   "cell_type": "code",
   "execution_count": 39,
   "id": "18855bff",
   "metadata": {},
   "outputs": [
    {
     "data": {
      "text/plain": [
       "0.903031956604017"
      ]
     },
     "execution_count": 39,
     "metadata": {},
     "output_type": "execute_result"
    }
   ],
   "source": [
    "score"
   ]
  },
  {
   "cell_type": "code",
   "execution_count": 40,
   "id": "71188613",
   "metadata": {},
   "outputs": [],
   "source": [
    "Y_true=clf.predict(X_test)"
   ]
  },
  {
   "cell_type": "code",
   "execution_count": 41,
   "id": "80a805eb",
   "metadata": {},
   "outputs": [],
   "source": [
    "error=mean_squared_error(Y_test,Y_true)"
   ]
  },
  {
   "cell_type": "code",
   "execution_count": 42,
   "id": "4526d92c",
   "metadata": {},
   "outputs": [
    {
     "data": {
      "text/plain": [
       "932.9841827041266"
      ]
     },
     "execution_count": 42,
     "metadata": {},
     "output_type": "execute_result"
    }
   ],
   "source": [
    "error"
   ]
  },
  {
   "cell_type": "code",
   "execution_count": 43,
   "id": "eae55452",
   "metadata": {},
   "outputs": [],
   "source": [
    "er=mean_absolute_error(Y_test,Y_true)"
   ]
  },
  {
   "cell_type": "code",
   "execution_count": 44,
   "id": "eb2aebd0",
   "metadata": {},
   "outputs": [
    {
     "data": {
      "text/plain": [
       "17.272138718173835"
      ]
     },
     "execution_count": 44,
     "metadata": {},
     "output_type": "execute_result"
    }
   ],
   "source": [
    "er"
   ]
  },
  {
   "cell_type": "markdown",
   "id": "29b0bfe0",
   "metadata": {},
   "source": [
    "## LINEAR REGRESSION"
   ]
  },
  {
   "cell_type": "code",
   "execution_count": 45,
   "id": "88754b4e",
   "metadata": {},
   "outputs": [],
   "source": [
    "model2=LinearRegression()"
   ]
  },
  {
   "cell_type": "code",
   "execution_count": 46,
   "id": "d111fcf9",
   "metadata": {},
   "outputs": [
    {
     "data": {
      "text/plain": [
       "LinearRegression()"
      ]
     },
     "execution_count": 46,
     "metadata": {},
     "output_type": "execute_result"
    }
   ],
   "source": [
    "model2.fit(X_train,Y_train)"
   ]
  },
  {
   "cell_type": "code",
   "execution_count": 47,
   "id": "6c0ab83d",
   "metadata": {},
   "outputs": [],
   "source": [
    "score=model2.score(X_test,Y_test)"
   ]
  },
  {
   "cell_type": "code",
   "execution_count": 48,
   "id": "95bcc219",
   "metadata": {},
   "outputs": [
    {
     "data": {
      "text/plain": [
       "0.8131134742399484"
      ]
     },
     "execution_count": 48,
     "metadata": {},
     "output_type": "execute_result"
    }
   ],
   "source": [
    "score"
   ]
  },
  {
   "cell_type": "code",
   "execution_count": 49,
   "id": "b046d8fe",
   "metadata": {},
   "outputs": [],
   "source": [
    "y_pred=model2.predict(X_test)"
   ]
  },
  {
   "cell_type": "code",
   "execution_count": null,
   "id": "ca39f0fe",
   "metadata": {},
   "outputs": [],
   "source": []
  },
  {
   "cell_type": "code",
   "execution_count": 50,
   "id": "9af2067d",
   "metadata": {},
   "outputs": [],
   "source": [
    "error2=mean_squared_error(Y_test,y_pred)"
   ]
  },
  {
   "cell_type": "code",
   "execution_count": 51,
   "id": "4b5e52bd",
   "metadata": {},
   "outputs": [
    {
     "data": {
      "text/plain": [
       "1798.1405666052508"
      ]
     },
     "execution_count": 51,
     "metadata": {},
     "output_type": "execute_result"
    }
   ],
   "source": [
    "error2"
   ]
  },
  {
   "cell_type": "markdown",
   "id": "0e72bc79",
   "metadata": {},
   "source": [
    "## DECISIONTREE"
   ]
  },
  {
   "cell_type": "code",
   "execution_count": 52,
   "id": "e49f26b6",
   "metadata": {},
   "outputs": [],
   "source": [
    "model3=DecisionTreeRegressor()"
   ]
  },
  {
   "cell_type": "code",
   "execution_count": 53,
   "id": "3599943d",
   "metadata": {},
   "outputs": [
    {
     "data": {
      "text/plain": [
       "DecisionTreeRegressor()"
      ]
     },
     "execution_count": 53,
     "metadata": {},
     "output_type": "execute_result"
    }
   ],
   "source": [
    "model3.fit(X_train,Y_train)"
   ]
  },
  {
   "cell_type": "code",
   "execution_count": 54,
   "id": "c5b1be03",
   "metadata": {},
   "outputs": [],
   "source": [
    "score=model3.score(X_test,Y_test)"
   ]
  },
  {
   "cell_type": "code",
   "execution_count": 55,
   "id": "b4d2c98e",
   "metadata": {},
   "outputs": [
    {
     "data": {
      "text/plain": [
       "0.8134163957880077"
      ]
     },
     "execution_count": 55,
     "metadata": {},
     "output_type": "execute_result"
    }
   ],
   "source": [
    "score"
   ]
  },
  {
   "cell_type": "code",
   "execution_count": 56,
   "id": "95a4022c",
   "metadata": {},
   "outputs": [],
   "source": [
    "y_pred=model3.predict(X_test)"
   ]
  },
  {
   "cell_type": "code",
   "execution_count": 57,
   "id": "851cb415",
   "metadata": {},
   "outputs": [],
   "source": [
    "error3=mean_squared_error(Y_test,y_pred)"
   ]
  },
  {
   "cell_type": "code",
   "execution_count": 58,
   "id": "f0c3d817",
   "metadata": {},
   "outputs": [
    {
     "data": {
      "text/plain": [
       "1795.2259877085162"
      ]
     },
     "execution_count": 58,
     "metadata": {},
     "output_type": "execute_result"
    }
   ],
   "source": [
    "error3"
   ]
  },
  {
   "cell_type": "code",
   "execution_count": null,
   "id": "14034136",
   "metadata": {},
   "outputs": [],
   "source": []
  }
 ],
 "metadata": {
  "kernelspec": {
   "display_name": "Python 3 (ipykernel)",
   "language": "python",
   "name": "python3"
  },
  "language_info": {
   "codemirror_mode": {
    "name": "ipython",
    "version": 3
   },
   "file_extension": ".py",
   "mimetype": "text/x-python",
   "name": "python",
   "nbconvert_exporter": "python",
   "pygments_lexer": "ipython3",
   "version": "3.10.2"
  }
 },
 "nbformat": 4,
 "nbformat_minor": 5
}
